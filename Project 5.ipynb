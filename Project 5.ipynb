{
 "cells": [
  {
   "cell_type": "markdown",
   "metadata": {},
   "source": [
    "## EE219 Project 5: Popularity Prediction on Twitter\n",
    "\n",
    "### Team members:\n",
    "* **Yin Fei** 404284074\n",
    "\n",
    "* **Yichen Wu** 504294181\n",
    "\n",
    "* **Siyuan Chen** 405024391\n",
    "\n",
    "* **Ruchen Zhen** 205036408\n",
    "\n",
    "### Required Packages:\n",
    "python 3.6  \n",
    "numpy v1.14.0  \n",
    "scikit-learn v0.19.1  \n",
    "scipy v1.0.0  \n",
    "matplotlib v2.1.2  \n",
    "tabulate v0.8.2  "
   ]
  },
  {
   "cell_type": "markdown",
   "metadata": {},
   "source": [
    "### Part 1: Popularity Prediction"
   ]
  },
  {
   "cell_type": "markdown",
   "metadata": {},
   "source": [
    "#### Problem 1.1"
   ]
  },
  {
   "cell_type": "code",
   "execution_count": 66,
   "metadata": {
    "collapsed": true,
    "scrolled": false
   },
   "outputs": [],
   "source": [
    "import json, os, sys\n",
    "import pickle\n",
    "\n",
    "data_path = \"./tweet_data\"\n",
    "\n",
    "filelist = []\n",
    "tweetslist = []\n",
    "retweetslist = []\n",
    "numuserlist = []\n",
    "followerslist = []\n",
    "mindatalist = []\n",
    "maxdatalist = []\n",
    "\n",
    "if os.path.isfile(\"./tweet_features1a.pkl\"):\n",
    "    tweet_features1a = pickle.load(open(\"./tweet_features1a.pkl\", \"rb\"))\n",
    "    [filelist, tweetslist, retweetslist, numuserlist,\\\n",
    "     followerslist, mindatalist, maxdatalist, ] = tweet_features1a\n",
    "else:\n",
    "    for file_name in os.listdir(data_path):\n",
    "        user = {}\n",
    "        filelist.append(file_name)\n",
    "        number_of_tweets = 0\n",
    "        number_of_retweets = 0\n",
    "        number_of_followers = 0\n",
    "        min_data = sys.maxsize\n",
    "        max_data = 0\n",
    "        if file_name.endswith(\".txt\"):\n",
    "            with open(os.path.join(data_path,file_name)) as text:\n",
    "                print (\"loaded \" + file_name)\n",
    "                for i, line in enumerate(text):\n",
    "                    json_object = json.loads(line)\n",
    "                    number_of_tweets += 1\n",
    "                    username = json_object['author']['nick']\n",
    "                    if username not in user:\n",
    "                        number_of_followers += json_object['author']['followers']\n",
    "                        user[username] = True\n",
    "                    number_of_retweets += json_object['metrics']['citations']['total']\n",
    "                    t = json_object['citation_date']\n",
    "                    if t > max_data:\n",
    "                        max_data = t\n",
    "                    if t < min_data:\n",
    "                        min_data = t\n",
    "                tweetslist.append(number_of_tweets)\n",
    "                retweetslist.append(number_of_retweets)\n",
    "                numuserlist.append(len(user))\n",
    "                followerslist.append(number_of_followers)\n",
    "                mindatalist.append(min_data)\n",
    "                maxdatalist.append(max_data)\n",
    "    \n",
    "    tweet_features1a = [filelist, tweetslist, retweetslist, numuserlist,\\\n",
    "                      followerslist, mindatalist, maxdatalist]\n",
    "    pickle.dump(tweet_features1a, open(\"./tweet_features1a.pkl\", \"wb\")) \n",
    "            "
   ]
  },
  {
   "cell_type": "code",
   "execution_count": 67,
   "metadata": {},
   "outputs": [
    {
     "name": "stdout",
     "output_type": "stream",
     "text": [
      "Tag            #tweets    #retweets    #users    #followers    duration(s)\n",
      "-----------  ---------  -----------  --------  ------------  -------------\n",
      "#gohawks        188136       379022     77584     123199757        2081588\n",
      "#gopatriots      26232        36727     18087      23413561        2066664\n",
      "#nfl            259024       398517     75642     319346589        2112932\n",
      "#patriots       489713       873068    327326     554816498        2112462\n",
      "#sb49           826951      2076597    590636    1329185117        2096661\n",
      "#superbowl     1348767      3221223    693087    2634415672        2108821\n"
     ]
    }
   ],
   "source": [
    "import numpy as np\n",
    "taglist = [x[7:-4] for x in filelist]\n",
    "followerslist = list(map(int, followerslist))\n",
    "difftime = np.subtract(maxdatalist,mindatalist)\n",
    "\n",
    "from tabulate import tabulate\n",
    "print(tabulate(np.array([taglist, tweetslist, retweetslist, numuserlist, \\\n",
    "                         followerslist, difftime]).transpose(), \\\n",
    "         headers=['Tag','#tweets','#retweets', '#users', '#followers', 'duration(s)']))"
   ]
  },
  {
   "cell_type": "code",
   "execution_count": 68,
   "metadata": {},
   "outputs": [
    {
     "name": "stdout",
     "output_type": "stream",
     "text": [
      "Tag            avg_tweets_per_hour    avg_followers    avg_#_of_retweets\n",
      "-----------  ---------------------  ---------------  -------------------\n",
      "#gohawks                  325.372           1587.95              2.01462\n",
      "#gopatriots                45.6945          1294.5               1.40008\n",
      "#nfl                      441.323           4221.82              1.53853\n",
      "#patriots                 834.556           1695                 1.78282\n",
      "#sb49                    1419.89            2250.43              2.51115\n",
      "#superbowl               2302.5             3800.99              2.38827\n"
     ]
    }
   ],
   "source": [
    "diffhour = difftime/3600\n",
    "\n",
    "avgtweetsperhour = np.array(tweetslist) / np.array(diffhour)\n",
    "avgfollowers = np.array(followerslist) / np.array(numuserlist)\n",
    "avgnumofretweets = np.array(retweetslist) / np.array(tweetslist)\n",
    "\n",
    "print(tabulate(np.array([taglist, avgtweetsperhour, avgfollowers, \\\n",
    "                         avgnumofretweets]).transpose(), \\\n",
    "         headers=['Tag','avg_tweets_per_hour','avg_followers', 'avg_#_of_retweets']))"
   ]
  },
  {
   "cell_type": "markdown",
   "metadata": {
    "collapsed": true
   },
   "source": [
    "#### #Superbowl"
   ]
  },
  {
   "cell_type": "code",
   "execution_count": 69,
   "metadata": {},
   "outputs": [],
   "source": [
    "superbowl_bar = {}\n",
    "\n",
    "if os.path.isfile(\"./superbowl_bar.pkl\"):\n",
    "    superbowl_bar = pickle.load(open(\"./superbowl_bar.pkl\", \"rb\"))\n",
    "else:\n",
    "    file_name='tweets_#superbowl.txt'\n",
    "    with open(os.path.join(data_path, file_name)) as text:\n",
    "        for i, line in enumerate(text):\n",
    "            json_object = json.loads(line)\n",
    "            t = int(json_object['citation_date']/3600)\n",
    "            if t in superbowl_bar.keys():\n",
    "                superbowl_bar[t] += 1\n",
    "            else:\n",
    "                superbowl_bar[t] = 1\n",
    "    pickle.dump(superbowl_bar, open(\"./superbowl_bar.pkl\", \"wb\")) "
   ]
  },
  {
   "cell_type": "code",
   "execution_count": 70,
   "metadata": {},
   "outputs": [
    {
     "data": {
      "image/png": "[encoded data removed]",
      "text/plain": [
       "<matplotlib.figure.Figure at 0x293b65b0ba8>"
      ]
     },
     "metadata": {},
     "output_type": "display_data"
    }
   ],
   "source": [
    "import matplotlib.pyplot as plt\n",
    "plt.figure(figsize=(13, 6))\n",
    "plt.bar(superbowl_bar.keys(), superbowl_bar.values())\n",
    "plt.xlabel('Hour (UTC)', fontsize=16)\n",
    "plt.ylabel('# of tweets', fontsize=16)\n",
    "plt.title('#SuperBowl', fontsize=16)\n",
    "plt.show()"
   ]
  },
  {
   "cell_type": "markdown",
   "metadata": {},
   "source": [
    "#### #NFL"
   ]
  },
  {
   "cell_type": "code",
   "execution_count": 71,
   "metadata": {
    "collapsed": true
   },
   "outputs": [],
   "source": [
    "nfl_bar = {}\n",
    "\n",
    "if os.path.isfile(\"./nfl_bar.pkl\"):\n",
    "    nfl_bar = pickle.load(open(\"./nfl_bar.pkl\", \"rb\"))\n",
    "else:\n",
    "    file_name='tweets_#nfl.txt'\n",
    "    with open(os.path.join(data_path, file_name)) as text:\n",
    "        for i, line in enumerate(text):\n",
    "            json_object = json.loads(line)\n",
    "            t = int(json_object['citation_date']/3600)\n",
    "            if t in nfl_bar.keys():\n",
    "                nfl_bar[t] += 1\n",
    "            else:\n",
    "                nfl_bar[t] = 1\n",
    "    pickle.dump(nfl_bar, open(\"./nfl_bar.pkl\", \"wb\")) "
   ]
  },
  {
   "cell_type": "code",
   "execution_count": 72,
   "metadata": {},
   "outputs": [
    {
     "data": {
      "image/png": "[encoded data removed]",
      "text/plain": [
       "<matplotlib.figure.Figure at 0x293b5bbdbe0>"
      ]
     },
     "metadata": {},
     "output_type": "display_data"
    }
   ],
   "source": [
    "plt.figure(figsize=(13, 6))\n",
    "plt.bar(nfl_bar.keys(), nfl_bar.values())\n",
    "plt.xlabel('Hour (UTC)', fontsize=16)\n",
    "plt.ylabel('# of tweets', fontsize=16)\n",
    "plt.title('#NFL', fontsize=16)\n",
    "plt.show()"
   ]
  },
  {
   "cell_type": "markdown",
   "metadata": {},
   "source": [
    "#### problem 1.2"
   ]
  },
  {
   "cell_type": "code",
   "execution_count": 77,
   "metadata": {},
   "outputs": [],
   "source": [
    "import datetime, time\n",
    "import pytz\n",
    "pst_tz = pytz.timezone('US/Pacific')\n",
    "\n",
    "tweet_features1b = []\n",
    "\n",
    "if os.path.isfile(\"./tweet_features1b.pkl\"):\n",
    "    tweet_features1b = pickle.load(open(\"./tweet_features1b.pkl\", \"rb\"))\n",
    "#    [ntweets, nretweets, sumfollowers, maxfollowers, hour] = tweet_features1b\n",
    "else:\n",
    "    # tag_hr: [ntweets, nretweets, sumfollowers, maxfollowers, hour]\n",
    "    for idx, file_name in enumerate(filelist):\n",
    "        min_hr = mindatalist[idx]//3600\n",
    "        max_hr = maxdatalist[idx]//3600\n",
    "        num_hr = max_hr - min_hr + 1\n",
    "        tag_hr = np.zeros([num_hr, 5])\n",
    "        \n",
    "        time = datetime.datetime.fromtimestamp(mindatalist[idx], pst_tz)\n",
    "        tag_hr[0][4] = time.hour\n",
    "        for n in range(1, num_hr):\n",
    "            tag_hr[n][4] = (tag_hr[n-1][4] + 1) % 24\n",
    "            \n",
    "        with open(os.path.join(data_path, file_name)) as text:\n",
    "            print (\"loaded \" + file_name)\n",
    "\n",
    "            for i, line in enumerate(text):\n",
    "                json_object = json.loads(line)\n",
    "                hr = int(json_object['citation_date']/3600) - min_hr\n",
    "                tag_hr[hr][0] += 1\n",
    "                tag_hr[hr][1] += json_object['metrics']['citations']['total']\n",
    "                tag_hr[hr][2] += json_object['author']['followers']\n",
    "                if json_object['author']['followers'] > tag_hr[hr][3]:\n",
    "                    tag_hr[hr][3]=json_object['author']['followers']\n",
    "    \n",
    "        tweet_features1b.append(tag_hr)\n",
    "    pickle.dump(tweet_features1b, open(\"./tweet_features1b.pkl\", \"wb\")) \n",
    "            "
   ]
  },
  {
   "cell_type": "code",
   "execution_count": 101,
   "metadata": {},
   "outputs": [
    {
     "name": "stdout",
     "output_type": "stream",
     "text": [
      "[ 0.33623426  0.59660805  0.52408011  0.09163281] [ 0.67246853  1.19321609  1.04816022  0.18326562]\n"
     ]
    }
   ],
   "source": [
    "wer = np.random.rand(4)\n",
    "wer2 = wer*2\n",
    "print(wer, wer2)"
   ]
  },
  {
   "cell_type": "code",
   "execution_count": 103,
   "metadata": {},
   "outputs": [
    {
     "name": "stdout",
     "output_type": "stream",
     "text": [
      "Linear Regression Model using 5-hr window for #gohawks \n",
      " -----------------------------------------------------------------------------\n",
      "                            OLS Regression Results                            \n",
      "==============================================================================\n",
      "Dep. Variable:                      y   R-squared:                       0.592\n",
      "Model:                            OLS   Adj. R-squared:                  0.574\n",
      "Method:                 Least Squares   F-statistic:                     31.93\n",
      "Date:                Sun, 18 Mar 2018   Prob (F-statistic):           2.51e-90\n",
      "Time:                        18:20:15   Log-Likelihood:                -4708.0\n",
      "No. Observations:                 574   AIC:                             9466.\n",
      "Df Residuals:                     549   BIC:                             9575.\n",
      "Df Model:                          25                                         \n",
      "Covariance Type:            nonrobust                                         \n",
      "==============================================================================\n",
      "                 coef    std err          t      P>|t|      [0.025      0.975]\n",
      "------------------------------------------------------------------------------\n",
      "x1             0.0860      0.196      0.438      0.662      -0.300       0.472\n",
      "x2             0.0011      0.049      0.022      0.982      -0.094       0.097\n",
      "x3            -0.0001   9.43e-05     -1.098      0.273      -0.000    8.17e-05\n",
      "x4             0.0001      0.000      0.860      0.390      -0.000       0.000\n",
      "x5            -4.7369      8.181     -0.579      0.563     -20.807      11.333\n",
      "x6             0.4894      0.210      2.327      0.020       0.076       0.903\n",
      "x7             0.0848      0.056      1.523      0.128      -0.025       0.194\n",
      "x8            -0.0004   9.35e-05     -4.689      0.000      -0.001      -0.000\n",
      "x9             0.0007      0.000      3.997      0.000       0.000       0.001\n",
      "x10           -0.7731     11.140     -0.069      0.945     -22.654      21.108\n",
      "x11            1.2219      0.217      5.623      0.000       0.795       1.649\n",
      "x12           -0.1951      0.059     -3.289      0.001      -0.312      -0.079\n",
      "x13           -0.0003   9.39e-05     -2.905      0.004      -0.000   -8.83e-05\n",
      "x14         8.465e-05      0.000      0.481      0.631      -0.000       0.000\n",
      "x15           -2.4763     11.075     -0.224      0.823     -24.232      19.279\n",
      "x16           -0.5529      0.203     -2.719      0.007      -0.952      -0.153\n",
      "x17            0.1608      0.059      2.732      0.006       0.045       0.276\n",
      "x18            0.0002   8.92e-05      2.334      0.020     3.3e-05       0.000\n",
      "x19           -0.0005      0.000     -2.767      0.006      -0.001      -0.000\n",
      "x20            1.2506     11.002      0.114      0.910     -20.361      22.862\n",
      "x21            1.2910      0.198      6.506      0.000       0.901       1.681\n",
      "x22           -0.2547      0.057     -4.443      0.000      -0.367      -0.142\n",
      "x23           -0.0002   8.86e-05     -1.814      0.070      -0.000    1.33e-05\n",
      "x24        -4.354e-05      0.000     -0.257      0.797      -0.000       0.000\n",
      "x25           13.5986      8.227      1.653      0.099      -2.562      29.759\n",
      "==============================================================================\n",
      "Omnibus:                      808.584   Durbin-Watson:                   1.994\n",
      "Prob(Omnibus):                  0.000   Jarque-Bera (JB):           380272.129\n",
      "Skew:                           7.013   Prob(JB):                         0.00\n",
      "Kurtosis:                     128.312   Cond. No.                     2.02e+06\n",
      "==============================================================================\n",
      "\n",
      "Warnings:\n",
      "[1] Standard Errors assume that the covariance matrix of the errors is correctly specified.\n",
      "[2] The condition number is large, 2.02e+06. This might indicate that there are\n",
      "strong multicollinearity or other numerical problems.\n",
      "\n",
      "\n",
      "\n",
      "\n",
      "\n",
      "Linear Regression Model using 5-hr window for #gopatriots \n",
      " -----------------------------------------------------------------------------\n",
      "                            OLS Regression Results                            \n",
      "==============================================================================\n",
      "Dep. Variable:                      y   R-squared:                       0.907\n",
      "Model:                            OLS   Adj. R-squared:                  0.903\n",
      "Method:                 Least Squares   F-statistic:                     213.2\n",
      "Date:                Sun, 18 Mar 2018   Prob (F-statistic):          1.27e-262\n",
      "Time:                        18:20:15   Log-Likelihood:                -3400.0\n",
      "No. Observations:                 570   AIC:                             6850.\n",
      "Df Residuals:                     545   BIC:                             6959.\n",
      "Df Model:                          25                                         \n",
      "Covariance Type:            nonrobust                                         \n",
      "==============================================================================\n",
      "                 coef    std err          t      P>|t|      [0.025      0.975]\n",
      "------------------------------------------------------------------------------\n",
      "x1             2.0083      0.259      7.759      0.000       1.500       2.517\n",
      "x2             0.0220      0.143      0.154      0.878      -0.259       0.303\n",
      "x3            -0.0020      0.000     -8.205      0.000      -0.002      -0.002\n",
      "x4             0.0020      0.000      8.317      0.000       0.002       0.002\n",
      "x5             0.0036      0.871      0.004      0.997      -1.707       1.715\n",
      "x6             0.7095      0.247      2.870      0.004       0.224       1.195\n",
      "x7            -0.8332      0.166     -5.033      0.000      -1.158      -0.508\n",
      "x8         -6.805e-05      0.000     -0.302      0.762      -0.001       0.000\n",
      "x9          5.371e-05      0.000      0.244      0.808      -0.000       0.000\n",
      "x10            0.1919      1.186      0.162      0.871      -2.137       2.521\n",
      "x11           -2.5313      0.175    -14.462      0.000      -2.875      -2.187\n",
      "x12            1.1043      0.214      5.169      0.000       0.685       1.524\n",
      "x13            0.0015      0.000      6.546      0.000       0.001       0.002\n",
      "x14           -0.0015      0.000     -6.923      0.000      -0.002      -0.001\n",
      "x15           -0.7134      1.192     -0.598      0.550      -3.055       1.628\n",
      "x16            0.6384      0.241      2.651      0.008       0.165       1.111\n",
      "x17            0.8830      0.208      4.254      0.000       0.475       1.291\n",
      "x18           -0.0018      0.000     -7.096      0.000      -0.002      -0.001\n",
      "x19            0.0020      0.000      8.359      0.000       0.002       0.002\n",
      "x20            0.4558      1.194      0.382      0.703      -1.891       2.802\n",
      "x21            1.5802      0.314      5.029      0.000       0.963       2.198\n",
      "x22           -2.7543      0.217    -12.667      0.000      -3.181      -2.327\n",
      "x23            0.0028      0.000     13.739      0.000       0.002       0.003\n",
      "x24           -0.0025      0.000    -12.970      0.000      -0.003      -0.002\n",
      "x25            0.4081      0.883      0.462      0.644      -1.326       2.143\n",
      "==============================================================================\n",
      "Omnibus:                      978.350   Durbin-Watson:                   2.051\n",
      "Prob(Omnibus):                  0.000   Jarque-Bera (JB):           799491.976\n",
      "Skew:                          10.332   Prob(JB):                         0.00\n",
      "Kurtosis:                     185.307   Cond. No.                     3.00e+05\n",
      "==============================================================================\n",
      "\n",
      "Warnings:\n",
      "[1] Standard Errors assume that the covariance matrix of the errors is correctly specified.\n",
      "[2] The condition number is large,  3e+05. This might indicate that there are\n",
      "strong multicollinearity or other numerical problems.\n",
      "\n",
      "\n",
      "\n",
      "\n",
      "\n",
      "Linear Regression Model using 5-hr window for #nfl \n",
      " -----------------------------------------------------------------------------\n",
      "                            OLS Regression Results                            \n",
      "==============================================================================\n",
      "Dep. Variable:                      y   R-squared:                       0.764\n",
      "Model:                            OLS   Adj. R-squared:                  0.753\n",
      "Method:                 Least Squares   F-statistic:                     71.97\n",
      "Date:                Sun, 18 Mar 2018   Prob (F-statistic):          2.01e-156\n",
      "Time:                        18:20:15   Log-Likelihood:                -4419.9\n",
      "No. Observations:                 582   AIC:                             8890.\n",
      "Df Residuals:                     557   BIC:                             8999.\n",
      "Df Model:                          25                                         \n",
      "Covariance Type:            nonrobust                                         \n",
      "==============================================================================\n",
      "                 coef    std err          t      P>|t|      [0.025      0.975]\n",
      "------------------------------------------------------------------------------\n",
      "x1             0.0842      0.134      0.630      0.529      -0.178       0.347\n",
      "x2             0.1045      0.065      1.596      0.111      -0.024       0.233\n",
      "x3            -0.0001   2.66e-05     -4.290      0.000      -0.000   -6.19e-05\n",
      "x4             0.0001   3.55e-05      3.594      0.000    5.79e-05       0.000\n",
      "x5            -0.2217      4.373     -0.051      0.960      -8.811       8.367\n",
      "x6             0.0575      0.137      0.421      0.674      -0.211       0.326\n",
      "x7            -0.0575      0.066     -0.875      0.382      -0.187       0.072\n",
      "x8          1.008e-05   2.72e-05      0.370      0.711   -4.34e-05    6.35e-05\n",
      "x9          1.197e-05    3.6e-05      0.333      0.740   -5.87e-05    8.27e-05\n",
      "x10           -0.2092      5.917     -0.035      0.972     -11.832      11.414\n",
      "x11            0.8742      0.136      6.414      0.000       0.606       1.142\n",
      "x12           -0.2987      0.064     -4.661      0.000      -0.425      -0.173\n",
      "x13        -9.438e-05   2.74e-05     -3.447      0.001      -0.000   -4.06e-05\n",
      "x14            0.0001   3.67e-05      3.425      0.001    5.36e-05       0.000\n",
      "x15           -1.5070      5.921     -0.255      0.799     -13.136      10.122\n",
      "x16           -0.5629      0.143     -3.946      0.000      -0.843      -0.283\n",
      "x17            0.2660      0.064      4.177      0.000       0.141       0.391\n",
      "x18         9.148e-05   2.57e-05      3.562      0.000     4.1e-05       0.000\n",
      "x19        -9.558e-05   3.46e-05     -2.765      0.006      -0.000   -2.77e-05\n",
      "x20           -0.1080      5.946     -0.018      0.986     -11.788      11.572\n",
      "x21            0.6825      0.140      4.877      0.000       0.408       0.957\n",
      "x22           -0.1371      0.063     -2.165      0.031      -0.261      -0.013\n",
      "x23         5.608e-05    2.5e-05      2.247      0.025    7.06e-06       0.000\n",
      "x24        -5.969e-05    3.4e-05     -1.757      0.079      -0.000    7.04e-06\n",
      "x25            5.6390      4.524      1.246      0.213      -3.247      14.525\n",
      "==============================================================================\n",
      "Omnibus:                      909.297   Durbin-Watson:                   1.868\n",
      "Prob(Omnibus):                  0.000   Jarque-Bera (JB):           478463.135\n",
      "Skew:                           8.665   Prob(JB):                         0.00\n",
      "Kurtosis:                     142.392   Cond. No.                     3.51e+06\n",
      "==============================================================================\n",
      "\n",
      "Warnings:\n",
      "[1] Standard Errors assume that the covariance matrix of the errors is correctly specified.\n",
      "[2] The condition number is large, 3.51e+06. This might indicate that there are\n",
      "strong multicollinearity or other numerical problems.\n",
      "\n",
      "\n",
      "\n",
      "\n",
      "\n",
      "Linear Regression Model using 5-hr window for #patriots \n",
      " -----------------------------------------------------------------------------\n",
      "                            OLS Regression Results                            \n",
      "==============================================================================\n",
      "Dep. Variable:                      y   R-squared:                       0.766\n",
      "Model:                            OLS   Adj. R-squared:                  0.755\n",
      "Method:                 Least Squares   F-statistic:                     72.79\n",
      "Date:                Sun, 18 Mar 2018   Prob (F-statistic):          1.85e-157\n",
      "Time:                        18:20:15   Log-Likelihood:                -5297.9\n",
      "No. Observations:                 582   AIC:                         1.065e+04\n",
      "Df Residuals:                     557   BIC:                         1.076e+04\n",
      "Df Model:                          25                                         \n",
      "Covariance Type:            nonrobust                                         \n",
      "==============================================================================\n",
      "                 coef    std err          t      P>|t|      [0.025      0.975]\n",
      "------------------------------------------------------------------------------\n",
      "x1            -0.1564      0.104     -1.509      0.132      -0.360       0.047\n",
      "x2            -0.0190      0.055     -0.346      0.729      -0.127       0.089\n",
      "x3         -8.849e-05   5.23e-05     -1.692      0.091      -0.000    1.42e-05\n",
      "x4          3.484e-05      0.000      0.310      0.756      -0.000       0.000\n",
      "x5            -3.0098     19.644     -0.153      0.878     -41.595      35.575\n",
      "x6             0.0213      0.106      0.201      0.841      -0.187       0.230\n",
      "x7             0.2646      0.074      3.578      0.000       0.119       0.410\n",
      "x8            -0.0002   5.11e-05     -4.320      0.000      -0.000      -0.000\n",
      "x9             0.0004      0.000      3.308      0.001       0.000       0.001\n",
      "x10            3.4807     26.770      0.130      0.897     -49.101      56.062\n",
      "x11           -0.1896      0.103     -1.844      0.066      -0.392       0.012\n",
      "x12            0.1756      0.076      2.303      0.022       0.026       0.325\n",
      "x13            0.0003   4.67e-05      7.013      0.000       0.000       0.000\n",
      "x14           -0.0005      0.000     -4.723      0.000      -0.001      -0.000\n",
      "x15           -1.6050     26.802     -0.060      0.952     -54.250      51.040\n",
      "x16            0.0601      0.100      0.600      0.549      -0.137       0.257\n",
      "x17           -0.1783      0.076     -2.348      0.019      -0.327      -0.029\n",
      "x18           -0.0002   4.48e-05     -4.227      0.000      -0.000      -0.000\n",
      "x19            0.0003      0.000      2.864      0.004    9.45e-05       0.001\n",
      "x20           -1.8820     26.980     -0.070      0.944     -54.877      51.113\n",
      "x21            0.7162      0.094      7.598      0.000       0.531       0.901\n",
      "x22            0.1732      0.082      2.104      0.036       0.012       0.335\n",
      "x23         2.841e-05   5.02e-05      0.566      0.571   -7.01e-05       0.000\n",
      "x24         1.422e-05      0.000      0.126      0.900      -0.000       0.000\n",
      "x25            9.6942     20.579      0.471      0.638     -30.728      50.117\n",
      "==============================================================================\n",
      "Omnibus:                     1070.899   Durbin-Watson:                   1.977\n",
      "Prob(Omnibus):                  0.000   Jarque-Bera (JB):          1276754.642\n",
      "Skew:                          11.891   Prob(JB):                         0.00\n",
      "Kurtosis:                     231.219   Cond. No.                     7.22e+06\n",
      "==============================================================================\n",
      "\n",
      "Warnings:\n",
      "[1] Standard Errors assume that the covariance matrix of the errors is correctly specified.\n",
      "[2] The condition number is large, 7.22e+06. This might indicate that there are\n",
      "strong multicollinearity or other numerical problems.\n",
      "\n",
      "\n",
      "\n",
      "\n",
      "\n",
      "Linear Regression Model using 5-hr window for #sb49 \n",
      " -----------------------------------------------------------------------------\n",
      "                            OLS Regression Results                            \n",
      "==============================================================================\n",
      "Dep. Variable:                      y   R-squared:                       0.868\n",
      "Model:                            OLS   Adj. R-squared:                  0.862\n",
      "Method:                 Least Squares   F-statistic:                     145.5\n",
      "Date:                Sun, 18 Mar 2018   Prob (F-statistic):          1.53e-224\n",
      "Time:                        18:20:15   Log-Likelihood:                -5573.0\n",
      "No. Observations:                 578   AIC:                         1.120e+04\n",
      "Df Residuals:                     553   BIC:                         1.131e+04\n",
      "Df Model:                          25                                         \n",
      "Covariance Type:            nonrobust                                         \n",
      "==============================================================================\n",
      "                 coef    std err          t      P>|t|      [0.025      0.975]\n",
      "------------------------------------------------------------------------------\n",
      "x1            -0.6915      0.183     -3.778      0.000      -1.051      -0.332\n",
      "x2             0.0620      0.097      0.642      0.521      -0.128       0.252\n",
      "x3          2.947e-05    2.2e-05      1.338      0.181   -1.38e-05    7.27e-05\n",
      "x4         -9.638e-05   7.17e-05     -1.344      0.179      -0.000    4.44e-05\n",
      "x5            -6.1951     33.795     -0.183      0.855     -72.577      60.187\n",
      "x6             0.3937      0.142      2.768      0.006       0.114       0.673\n",
      "x7             0.2740      0.104      2.630      0.009       0.069       0.479\n",
      "x8         -6.962e-05   1.69e-05     -4.112      0.000      -0.000   -3.64e-05\n",
      "x9          4.699e-05   6.25e-05      0.752      0.452   -7.58e-05       0.000\n",
      "x10            3.5613     45.961      0.077      0.938     -86.718      93.840\n",
      "x11            0.0570      0.131      0.437      0.663      -0.200       0.314\n",
      "x12           -0.0524      0.102     -0.515      0.607      -0.252       0.147\n",
      "x13        -2.655e-05   1.79e-05     -1.480      0.140   -6.18e-05    8.69e-06\n",
      "x14            0.0002   6.47e-05      2.881      0.004    5.93e-05       0.000\n",
      "x15          -11.4711     45.968     -0.250      0.803    -101.764      78.822\n",
      "x16           -0.1708      0.126     -1.360      0.174      -0.418       0.076\n",
      "x17           -0.2321      0.112     -2.065      0.039      -0.453      -0.011\n",
      "x18          6.39e-05    1.9e-05      3.365      0.001    2.66e-05       0.000\n",
      "x19           -0.0001   7.21e-05     -1.904      0.057      -0.000    4.34e-06\n",
      "x20           -6.4083     46.032     -0.139      0.889     -96.828      84.012\n",
      "x21            0.6329      0.120      5.278      0.000       0.397       0.868\n",
      "x22            0.4512      0.110      4.119      0.000       0.236       0.666\n",
      "x23        -6.393e-05   2.43e-05     -2.634      0.009      -0.000   -1.62e-05\n",
      "x24            0.0002    7.5e-05      2.955      0.003    7.44e-05       0.000\n",
      "x25            3.3335     34.291      0.097      0.923     -64.024      70.691\n",
      "==============================================================================\n",
      "Omnibus:                     1301.716   Durbin-Watson:                   2.085\n",
      "Prob(Omnibus):                  0.000   Jarque-Bera (JB):          4043681.724\n",
      "Skew:                          18.449   Prob(JB):                         0.00\n",
      "Kurtosis:                     411.096   Cond. No.                     6.74e+07\n",
      "==============================================================================\n",
      "\n",
      "Warnings:\n",
      "[1] Standard Errors assume that the covariance matrix of the errors is correctly specified.\n",
      "[2] The condition number is large, 6.74e+07. This might indicate that there are\n",
      "strong multicollinearity or other numerical problems.\n",
      "\n",
      "\n",
      "\n",
      "\n",
      "\n",
      "Linear Regression Model using 5-hr window for #superbowl \n",
      " -----------------------------------------------------------------------------\n",
      "                            OLS Regression Results                            \n",
      "==============================================================================\n",
      "Dep. Variable:                      y   R-squared:                       0.885\n",
      "Model:                            OLS   Adj. R-squared:                  0.880\n",
      "Method:                 Least Squares   F-statistic:                     171.0\n",
      "Date:                Sun, 18 Mar 2018   Prob (F-statistic):          1.58e-242\n",
      "Time:                        18:20:15   Log-Likelihood:                -5906.3\n",
      "No. Observations:                 582   AIC:                         1.186e+04\n",
      "Df Residuals:                     557   BIC:                         1.197e+04\n",
      "Df Model:                          25                                         \n",
      "Covariance Type:            nonrobust                                         \n",
      "==============================================================================\n",
      "                 coef    std err          t      P>|t|      [0.025      0.975]\n",
      "------------------------------------------------------------------------------\n",
      "x1             0.6946      0.302      2.302      0.022       0.102       1.287\n",
      "x2            -0.2856      0.074     -3.849      0.000      -0.431      -0.140\n",
      "x3          1.749e-05   3.44e-05      0.508      0.612   -5.01e-05    8.51e-05\n",
      "x4             0.0001      0.000      0.750      0.454      -0.000       0.000\n",
      "x5             3.2551     56.577      0.058      0.954    -107.876     114.386\n",
      "x6             1.5068      0.307      4.914      0.000       0.904       2.109\n",
      "x7            -0.3439      0.107     -3.222      0.001      -0.554      -0.134\n",
      "x8            -0.0001   4.07e-05     -2.599      0.010      -0.000   -2.58e-05\n",
      "x9             0.0005      0.000      3.288      0.001       0.000       0.001\n",
      "x10          -23.6110     76.350     -0.309      0.757    -173.580     126.358\n",
      "x11            2.6932      0.387      6.961      0.000       1.933       3.453\n",
      "x12           -1.1696      0.119     -9.851      0.000      -1.403      -0.936\n",
      "x13         9.029e-05   4.11e-05      2.198      0.028    9.59e-06       0.000\n",
      "x14           -0.0002      0.000     -0.959      0.338      -0.000       0.000\n",
      "x15          -15.2344     76.479     -0.199      0.842    -165.456     134.987\n",
      "x16            1.1853      0.256      4.629      0.000       0.682       1.688\n",
      "x17           -0.4814      0.095     -5.056      0.000      -0.668      -0.294\n",
      "x18        -3.126e-05   4.18e-05     -0.748      0.455      -0.000    5.09e-05\n",
      "x19            0.0003      0.000      1.861      0.063   -1.72e-05       0.001\n",
      "x20           13.6720     76.411      0.179      0.858    -136.417     163.761\n",
      "x21            2.7070      0.154     17.596      0.000       2.405       3.009\n",
      "x22           -0.8210      0.092     -8.965      0.000      -1.001      -0.641\n",
      "x23        -5.834e-05   3.75e-05     -1.554      0.121      -0.000    1.54e-05\n",
      "x24        -4.732e-05      0.000     -0.295      0.768      -0.000       0.000\n",
      "x25          -56.3690     57.403     -0.982      0.327    -169.123      56.385\n",
      "==============================================================================\n",
      "Omnibus:                     1280.870   Durbin-Watson:                   2.013\n",
      "Prob(Omnibus):                  0.000   Jarque-Bera (JB):          3471044.203\n",
      "Skew:                          17.539   Prob(JB):                         0.00\n",
      "Kurtosis:                     379.703   Cond. No.                     8.87e+07\n",
      "==============================================================================\n",
      "\n",
      "Warnings:\n",
      "[1] Standard Errors assume that the covariance matrix of the errors is correctly specified.\n",
      "[2] The condition number is large, 8.87e+07. This might indicate that there are\n",
      "strong multicollinearity or other numerical problems.\n",
      "\n",
      "\n",
      "\n",
      "\n",
      "\n"
     ]
    }
   ],
   "source": [
    "import statsmodels.api as sm\n",
    "\n",
    "N = 5 # N-hour window used as feature\n",
    "for idx, tag in enumerate(taglist):\n",
    "    X = tweet_features1b[idx][:-N, :]\n",
    "    for i in range(1,N):\n",
    "        X = np.concatenate((X, tweet_features1b[idx][i:(-N+i), :]), axis=1)\n",
    "    y = tweet_features1b[idx][N:, 0]\n",
    "    print(\"Linear Regression Model using %d-hr window for %s \\n\" % (N, tag), \"-\"*77)\n",
    "    mod = sm.OLS(y,X)\n",
    "    res = mod.fit()\n",
    "    print(res.summary())\n",
    "    print(\"\\n\"*4)"
   ]
  },
  {
   "cell_type": "markdown",
   "metadata": {
    "collapsed": true
   },
   "source": [
    "### Part 2"
   ]
  },
  {
   "cell_type": "code",
   "execution_count": 65,
   "metadata": {
    "collapsed": true
   },
   "outputs": [],
   "source": [
    "#superbowl\n",
    "import json,os\n",
    "file_name='tweets_#superbowl.txt'\n",
    "data_path = \"./tweet_data\"\n",
    "X=[]\n",
    "y=[]\n",
    "locationlist=[]\n",
    "inlist_w=['washington','WA','Washington']\n",
    "notinlist_w=['DC','D.C.']\n",
    "inlist_m=['Massachusetts','massachusetts','MA']\n",
    "with open(os.path.join(data_path,file_name)) as text:\n",
    "    for i, line in enumerate(text):\n",
    "        json_object = json.loads(line)\n",
    "        if any(v1 in json_object['tweet']['user']['location'] for v1 in inlist_w)\\\n",
    "        and all(v2 not in json_object['tweet']['user']['location'] for v2 in notinlist_w):\n",
    "            X.append(json_object['tweet']['text'])\n",
    "            y.append(1)\n",
    "            locationlist.append(json_object['tweet']['user']['location'])\n",
    "        if any(v1 in json_object['tweet']['user']['location'] for v1 in inlist_m):\n",
    "            X.append(json_object['tweet']['text'])\n",
    "            y.append(0)\n",
    "            locationlist.append(json_object['tweet']['user']['location'])\n",
    "#extract X,y\n",
    "#WA set as 1, MA set as 0"
   ]
  },
  {
   "cell_type": "code",
   "execution_count": 76,
   "metadata": {
    "collapsed": true
   },
   "outputs": [],
   "source": [
    "from nltk.stem.snowball import SnowballStemmer\n",
    "from sklearn.feature_extraction.text import CountVectorizer\n",
    "from sklearn.feature_extraction.text import TfidfTransformer\n",
    "from string import punctuation\n",
    "import nltk\n",
    "import re"
   ]
  },
  {
   "cell_type": "code",
   "execution_count": 78,
   "metadata": {
    "collapsed": true
   },
   "outputs": [],
   "source": [
    "from sklearn.feature_extraction import text\n",
    "stop_words = text.ENGLISH_STOP_WORDS\n",
    "stemmer = SnowballStemmer(\"english\", ignore_stopwords=True)\n",
    "def stem_tokens(tokens, stemmer):\n",
    "    stemmed = []\n",
    "    for item in tokens:\n",
    "        stemmed.append(stemmer.stem(item))\n",
    "    return stemmed\n",
    "\n",
    "\n",
    "\n",
    "def tokenize(text):\n",
    "    text = \"\".join([ch for ch in text if ch not in punctuation])\n",
    "    tokens = nltk.word_tokenize(text)\n",
    "    stems = stem_tokens(tokens, stemmer)\n",
    "    return stems\n",
    "\n",
    "def cleanup(data_set):\n",
    "    for i in range(len(data_set)):\n",
    "        temp=tokenize(data_set[i])\n",
    "        data_set[i]=' '.join([temp[word] for word in range(len(temp))])"
   ]
  },
  {
   "cell_type": "code",
   "execution_count": 79,
   "metadata": {
    "collapsed": true
   },
   "outputs": [],
   "source": [
    "cleanup(X)"
   ]
  },
  {
   "cell_type": "code",
   "execution_count": 143,
   "metadata": {
    "collapsed": true
   },
   "outputs": [],
   "source": [
    "vectorizer = CountVectorizer(min_df=5,stop_words ='english') \n",
    "X_f=vectorizer.fit_transform(X)"
   ]
  },
  {
   "cell_type": "code",
   "execution_count": 145,
   "metadata": {
    "collapsed": true
   },
   "outputs": [],
   "source": [
    "tfidf_transformer = TfidfTransformer()\n",
    "X_tfidf = tfidf_transformer.fit_transform(X_f)"
   ]
  },
  {
   "cell_type": "code",
   "execution_count": 149,
   "metadata": {
    "collapsed": true
   },
   "outputs": [],
   "source": [
    "from sklearn.decomposition import TruncatedSVD\n",
    "SVD=TruncatedSVD(n_components=50, algorithm='arpack')\n",
    "LSI=SVD.fit_transform(X_tfidf)"
   ]
  },
  {
   "cell_type": "code",
   "execution_count": 161,
   "metadata": {
    "collapsed": true
   },
   "outputs": [],
   "source": [
    "from sklearn.metrics import roc_curve\n",
    "import matplotlib.pyplot as plt #ROC Curve\n",
    "from sklearn.metrics import confusion_matrix\n",
    "from sklearn import metrics\n",
    "def printusefulinfo(classifier_name,input_train,output_train,input_test,output_test):\n",
    "    classifier_name.fit(input_train,output_train) #train the classifier\n",
    "    output_pred=classifier_name.predict(input_test)\n",
    "    x_roc,y_roc,threshold=roc_curve(output_test,output_pred,pos_label=1)\n",
    "    plt.plot(x_roc,y_roc)\n",
    "    plt.xlabel('False Positive Rate (FPR)')\n",
    "    plt.ylabel('True Positive Rate (TPR)')\n",
    "    plt.title('ROC Curve')\n",
    "    plt.show()\n",
    "    print ('confusion matrix is:')\n",
    "    print (confusion_matrix(output_test,output_pred))\n",
    "    print ('-------------------------------------------------------')\n",
    "    print ('accuracy is:')\n",
    "    print (np.mean(output_pred == output_test))\n",
    "    print ('-------------------------------------------------------')\n",
    "    print (metrics.classification_report(output_test,output_pred, target_names=[\"WA\",\"MA\"]),)"
   ]
  },
  {
   "cell_type": "markdown",
   "metadata": {},
   "source": [
    "use SVM"
   ]
  },
  {
   "cell_type": "code",
   "execution_count": 162,
   "metadata": {
    "collapsed": true
   },
   "outputs": [],
   "source": [
    "from sklearn import svm\n",
    "classifier_hard = svm.SVC(kernel='linear', C=1000)\n",
    "classifier_soft = svm.SVC(kernel='linear', C=0.001)"
   ]
  },
  {
   "cell_type": "code",
   "execution_count": 163,
   "metadata": {
    "collapsed": true
   },
   "outputs": [],
   "source": [
    "import numpy as np\n",
    "from sklearn.model_selection import train_test_split\n",
    "X_train, X_test, y_train, y_test = train_test_split(LSI, y, test_size=0.3, random_state=42)"
   ]
  },
  {
   "cell_type": "code",
   "execution_count": 164,
   "metadata": {
    "scrolled": false
   },
   "outputs": [
    {
     "data": {
      "image/png": "[encoded data removed]",
      "text/plain": [
       "<matplotlib.figure.Figure at 0x1ca1764860>"
      ]
     },
     "metadata": {},
     "output_type": "display_data"
    },
    {
     "name": "stdout",
     "output_type": "stream",
     "text": [
      "confusion matrix is:\n",
      "[[4847  247]\n",
      " [1979 2629]]\n",
      "-------------------------------------------------------\n",
      "accuracy is:\n",
      "0.770562770563\n",
      "-------------------------------------------------------\n",
      "             precision    recall  f1-score   support\n",
      "\n",
      "         WA       0.71      0.95      0.81      5094\n",
      "         MA       0.91      0.57      0.70      4608\n",
      "\n",
      "avg / total       0.81      0.77      0.76      9702\n",
      "\n"
     ]
    }
   ],
   "source": [
    "printusefulinfo(classifier_hard,X_train,y_train,X_test,y_test)"
   ]
  },
  {
   "cell_type": "code",
   "execution_count": 165,
   "metadata": {},
   "outputs": [
    {
     "data": {
      "image/png": "[encoded data removed]",
      "text/plain": [
       "<matplotlib.figure.Figure at 0x1a13b7b7b8>"
      ]
     },
     "metadata": {},
     "output_type": "display_data"
    },
    {
     "name": "stdout",
     "output_type": "stream",
     "text": [
      "confusion matrix is:\n",
      "[[5094    0]\n",
      " [4599    9]]\n",
      "-------------------------------------------------------\n",
      "accuracy is:\n",
      "0.525974025974\n",
      "-------------------------------------------------------\n",
      "             precision    recall  f1-score   support\n",
      "\n",
      "         WA       0.53      1.00      0.69      5094\n",
      "         MA       1.00      0.00      0.00      4608\n",
      "\n",
      "avg / total       0.75      0.53      0.36      9702\n",
      "\n"
     ]
    }
   ],
   "source": [
    "printusefulinfo(classifier_soft,X_train,y_train,X_test,y_test)"
   ]
  },
  {
   "cell_type": "code",
   "execution_count": 166,
   "metadata": {
    "collapsed": true
   },
   "outputs": [],
   "source": [
    "svc = svm.SVC(kernel='linear')\n",
    "knumber = [0.001, 0.01, 0.1, 1, 10, 100, 1000]"
   ]
  },
  {
   "cell_type": "code",
   "execution_count": 169,
   "metadata": {
    "collapsed": true,
    "scrolled": true
   },
   "outputs": [],
   "source": [
    "from sklearn.model_selection import cross_val_score\n",
    "scores=[]\n",
    "for k in knumber:\n",
    "    print (k)\n",
    "    svc.C=k\n",
    "    this_scores = cross_val_score(svc, LSI, y, n_jobs=2)\n",
    "    scores.append(np.mean(this_scores))"
   ]
  },
  {
   "cell_type": "code",
   "execution_count": 177,
   "metadata": {},
   "outputs": [
    {
     "name": "stdout",
     "output_type": "stream",
     "text": [
      "[0.52333240560348826, 0.71209450474688429, 0.72186659244827911, 0.72177381946377217, 0.72069146797785821, 0.72062961932152014, 0.72066054364968923]\n"
     ]
    }
   ],
   "source": [
    "print (scores)"
   ]
  },
  {
   "cell_type": "code",
   "execution_count": 170,
   "metadata": {
    "collapsed": true
   },
   "outputs": [],
   "source": [
    "desiredknumber=knumber[np.argmax(scores)]"
   ]
  },
  {
   "cell_type": "code",
   "execution_count": 173,
   "metadata": {},
   "outputs": [
    {
     "name": "stdout",
     "output_type": "stream",
     "text": [
      "0.1\n"
     ]
    }
   ],
   "source": [
    "print (desiredknumber)"
   ]
  },
  {
   "cell_type": "code",
   "execution_count": 174,
   "metadata": {
    "collapsed": true
   },
   "outputs": [],
   "source": [
    "classifier_desire = svm.SVC(kernel='linear', C=desiredknumber)"
   ]
  },
  {
   "cell_type": "code",
   "execution_count": 176,
   "metadata": {},
   "outputs": [
    {
     "data": {
      "image/png": "[encoded data removed]",
      "text/plain": [
       "<matplotlib.figure.Figure at 0x1a1306f0b8>"
      ]
     },
     "metadata": {},
     "output_type": "display_data"
    },
    {
     "name": "stdout",
     "output_type": "stream",
     "text": [
      "confusion matrix is:\n",
      "[[4850  244]\n",
      " [2041 2567]]\n",
      "-------------------------------------------------------\n",
      "accuracy is:\n",
      "0.764481550196\n",
      "-------------------------------------------------------\n",
      "             precision    recall  f1-score   support\n",
      "\n",
      "         WA       0.70      0.95      0.81      5094\n",
      "         MA       0.91      0.56      0.69      4608\n",
      "\n",
      "avg / total       0.80      0.76      0.75      9702\n",
      "\n"
     ]
    }
   ],
   "source": [
    "printusefulinfo(classifier_desire,X_train,y_train,X_test,y_test)"
   ]
  },
  {
   "cell_type": "markdown",
   "metadata": {},
   "source": [
    "use naïve Bayes algorithm"
   ]
  },
  {
   "cell_type": "code",
   "execution_count": 178,
   "metadata": {
    "collapsed": true
   },
   "outputs": [],
   "source": [
    "from sklearn.naive_bayes import GaussianNB\n",
    "gnb = GaussianNB()"
   ]
  },
  {
   "cell_type": "code",
   "execution_count": 179,
   "metadata": {},
   "outputs": [
    {
     "data": {
      "image/png": "[encoded data removed]",
      "text/plain": [
       "<matplotlib.figure.Figure at 0x1a13c9e5c0>"
      ]
     },
     "metadata": {},
     "output_type": "display_data"
    },
    {
     "name": "stdout",
     "output_type": "stream",
     "text": [
      "confusion matrix is:\n",
      "[[4194  900]\n",
      " [1975 2633]]\n",
      "-------------------------------------------------------\n",
      "accuracy is:\n",
      "0.703669346526\n",
      "-------------------------------------------------------\n",
      "             precision    recall  f1-score   support\n",
      "\n",
      "         WA       0.68      0.82      0.74      5094\n",
      "         MA       0.75      0.57      0.65      4608\n",
      "\n",
      "avg / total       0.71      0.70      0.70      9702\n",
      "\n"
     ]
    }
   ],
   "source": [
    "printusefulinfo(gnb,X_train,y_train,X_test,y_test)"
   ]
  },
  {
   "cell_type": "markdown",
   "metadata": {},
   "source": [
    "use logistic regression"
   ]
  },
  {
   "cell_type": "code",
   "execution_count": 181,
   "metadata": {
    "collapsed": true
   },
   "outputs": [],
   "source": [
    "from sklearn.linear_model import LogisticRegression\n",
    "logreg=LogisticRegression()"
   ]
  },
  {
   "cell_type": "code",
   "execution_count": 182,
   "metadata": {},
   "outputs": [
    {
     "data": {
      "image/png": "[encoded data removed]",
      "text/plain": [
       "<matplotlib.figure.Figure at 0x1ca1724198>"
      ]
     },
     "metadata": {},
     "output_type": "display_data"
    },
    {
     "name": "stdout",
     "output_type": "stream",
     "text": [
      "confusion matrix is:\n",
      "[[4789  305]\n",
      " [1848 2760]]\n",
      "-------------------------------------------------------\n",
      "accuracy is:\n",
      "0.778086992373\n",
      "-------------------------------------------------------\n",
      "             precision    recall  f1-score   support\n",
      "\n",
      "         WA       0.72      0.94      0.82      5094\n",
      "         MA       0.90      0.60      0.72      4608\n",
      "\n",
      "avg / total       0.81      0.78      0.77      9702\n",
      "\n"
     ]
    }
   ],
   "source": [
    "printusefulinfo(logreg,X_train,y_train,X_test,y_test)"
   ]
  },
  {
   "cell_type": "code",
   "execution_count": null,
   "metadata": {
    "collapsed": true
   },
   "outputs": [],
   "source": []
  }
 ],
 "metadata": {
  "kernelspec": {
   "display_name": "Python 3",
   "language": "python",
   "name": "python3"
  },
  "language_info": {
   "codemirror_mode": {
    "name": "ipython",
    "version": 3
   },
   "file_extension": ".py",
   "mimetype": "text/x-python",
   "name": "python",
   "nbconvert_exporter": "python",
   "pygments_lexer": "ipython3",
   "version": "3.6.4"
  }
 },
 "nbformat": 4,
 "nbformat_minor": 2
}
