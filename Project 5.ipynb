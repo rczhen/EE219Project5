{
 "cells": [
  {
   "cell_type": "markdown",
   "metadata": {},
   "source": [
    "## EE219 Project 5: Popularity Prediction on Twitter\n",
    "\n",
    "### Team members:\n",
    "* **Yin Fei** 404284074\n",
    "\n",
    "* **Yichen Wu** 504294181\n",
    "\n",
    "* **Siyuan Chen** 405024391\n",
    "\n",
    "* **Ruchen Zhen** 205036408\n",
    "\n",
    "### Required Packages:\n",
    "python 3.6  \n",
    "numpy v1.14.0  \n",
    "scikit-learn v0.19.1  \n",
    "scipy v1.0.0  \n",
    "matplotlib v2.1.2  \n",
    "tabulate v0.8.2  "
   ]
  },
  {
   "cell_type": "markdown",
   "metadata": {},
   "source": [
    "### Part 1: Popularity Prediction"
   ]
  },
  {
   "cell_type": "markdown",
   "metadata": {},
   "source": [
    "#### Problem 1.1"
   ]
  },
  {
   "cell_type": "code",
   "execution_count": 125,
   "metadata": {
    "collapsed": true,
    "scrolled": false
   },
   "outputs": [],
   "source": [
    "import json, os, sys\n",
    "import pickle\n",
    "\n",
    "data_path = \"./tweet_data\"\n",
    "\n",
    "filelist = []\n",
    "tweetslist = []\n",
    "retweetslist = []\n",
    "numuserlist = []\n",
    "followerslist = []\n",
    "mindatalist = []\n",
    "maxdatalist = []\n",
    "\n",
    "if os.path.isfile(\"./tweet_features1a.pkl\"):\n",
    "    tweet_features1a = pickle.load(open(\"./tweet_features1a.pkl\", \"rb\"))\n",
    "    [filelist, tweetslist, retweetslist, numuserlist,\\\n",
    "     followerslist, mindatalist, maxdatalist, ] = tweet_features1a\n",
    "else:\n",
    "    for file_name in os.listdir(data_path):\n",
    "        user = {}\n",
    "        filelist.append(file_name)\n",
    "        number_of_tweets = 0\n",
    "        number_of_retweets = 0\n",
    "        number_of_followers = 0\n",
    "        min_data = sys.maxsize\n",
    "        max_data = 0\n",
    "        if file_name.endswith(\".txt\"):\n",
    "            with open(os.path.join(data_path,file_name)) as text:\n",
    "                print (\"loaded \" + file_name)\n",
    "                for i, line in enumerate(text):\n",
    "                    json_object = json.loads(line)\n",
    "                    number_of_tweets += 1\n",
    "                    username = json_object['author']['nick']\n",
    "                    if username not in user:\n",
    "                        number_of_followers += json_object['author']['followers']\n",
    "                        user[username] = True\n",
    "                    number_of_retweets += json_object['metrics']['citations']['total']\n",
    "                    t = json_object['citation_date']\n",
    "                    if t > max_data:\n",
    "                        max_data = t\n",
    "                    if t < min_data:\n",
    "                        min_data = t\n",
    "                tweetslist.append(number_of_tweets)\n",
    "                retweetslist.append(number_of_retweets)\n",
    "                numuserlist.append(len(user))\n",
    "                followerslist.append(number_of_followers)\n",
    "                mindatalist.append(min_data)\n",
    "                maxdatalist.append(max_data)\n",
    "    \n",
    "    tweet_features1a = [filelist, tweetslist, retweetslist, numuserlist,\\\n",
    "                      followerslist, mindatalist, maxdatalist]\n",
    "    pickle.dump(tweet_features1a, open(\"./tweet_features1a.pkl\", \"wb\")) \n",
    "            "
   ]
  },
  {
   "cell_type": "code",
   "execution_count": 126,
   "metadata": {},
   "outputs": [
    {
     "name": "stdout",
     "output_type": "stream",
     "text": [
      "Tag            #tweets    #retweets    #users    #followers    duration(s)\n",
      "-----------  ---------  -----------  --------  ------------  -------------\n",
      "#gohawks        188136       379022     77584     123199757        2081588\n",
      "#gopatriots      26232        36727     18087      23413561        2066664\n",
      "#nfl            259024       398517     75642     319346589        2112932\n",
      "#patriots       489713       873068    327326     554816498        2112462\n",
      "#sb49           826951      2076597    590636    1329185117        2096661\n",
      "#superbowl     1348767      3221223    693087    2634415672        2108821\n"
     ]
    }
   ],
   "source": [
    "import numpy as np\n",
    "taglist = [x[7:-4] for x in filelist]\n",
    "followerslist = list(map(int, followerslist))\n",
    "difftime = np.subtract(maxdatalist,mindatalist)\n",
    "\n",
    "from tabulate import tabulate\n",
    "print(tabulate(np.array([taglist, tweetslist, retweetslist, numuserlist, \\\n",
    "                         followerslist, difftime]).transpose(), \\\n",
    "         headers=['Tag','#tweets','#retweets', '#users', '#followers', 'duration(s)']))"
   ]
  },
  {
   "cell_type": "code",
   "execution_count": 127,
   "metadata": {},
   "outputs": [
    {
     "name": "stdout",
     "output_type": "stream",
     "text": [
      "Tag            avg_tweets_per_hour    avg_followers    avg_#_of_retweets\n",
      "-----------  ---------------------  ---------------  -------------------\n",
      "#gohawks                  325.372           1587.95              2.01462\n",
      "#gopatriots                45.6945          1294.5               1.40008\n",
      "#nfl                      441.323           4221.82              1.53853\n",
      "#patriots                 834.556           1695                 1.78282\n",
      "#sb49                    1419.89            2250.43              2.51115\n",
      "#superbowl               2302.5             3800.99              2.38827\n"
     ]
    }
   ],
   "source": [
    "diffhour = difftime/3600\n",
    "\n",
    "avgtweetsperhour = np.array(tweetslist) / np.array(diffhour)\n",
    "avgfollowers = np.array(followerslist) / np.array(numuserlist)\n",
    "avgnumofretweets = np.array(retweetslist) / np.array(tweetslist)\n",
    "\n",
    "print(tabulate(np.array([taglist, avgtweetsperhour, avgfollowers, \\\n",
    "                         avgnumofretweets]).transpose(), \\\n",
    "         headers=['Tag','avg_tweets_per_hour','avg_followers', 'avg_#_of_retweets']))"
   ]
  },
  {
   "cell_type": "markdown",
   "metadata": {
    "collapsed": true
   },
   "source": [
    "#### #Superbowl"
   ]
  },
  {
   "cell_type": "code",
   "execution_count": 128,
   "metadata": {
    "collapsed": true
   },
   "outputs": [],
   "source": [
    "superbowl_bar = {}\n",
    "\n",
    "if os.path.isfile(\"./superbowl_bar.pkl\"):\n",
    "    superbowl_bar = pickle.load(open(\"./superbowl_bar.pkl\", \"rb\"))\n",
    "else:\n",
    "    file_name='tweets_#superbowl.txt'\n",
    "    with open(os.path.join(data_path, file_name)) as text:\n",
    "        for i, line in enumerate(text):\n",
    "            json_object = json.loads(line)\n",
    "            t = int(json_object['citation_date']/3600)\n",
    "            if t in superbowl_bar.keys():\n",
    "                superbowl_bar[t] += 1\n",
    "            else:\n",
    "                superbowl_bar[t] = 1\n",
    "    pickle.dump(superbowl_bar, open(\"./superbowl_bar.pkl\", \"wb\")) "
   ]
  },
  {
   "cell_type": "code",
   "execution_count": 129,
   "metadata": {},
   "outputs": [
    {
     "data": {
      "image/png": "[encoded data removed]",
      "text/plain": [
       "<matplotlib.figure.Figure at 0x22c82f28e48>"
      ]
     },
     "metadata": {},
     "output_type": "display_data"
    }
   ],
   "source": [
    "import matplotlib.pyplot as plt\n",
    "plt.figure(figsize=(13, 6))\n",
    "plt.bar(superbowl_bar.keys(), superbowl_bar.values())\n",
    "plt.xlabel('Hour (UTC)', fontsize=16)\n",
    "plt.ylabel('# of tweets', fontsize=16)\n",
    "plt.title('#SuperBowl', fontsize=16)\n",
    "plt.show()"
   ]
  },
  {
   "cell_type": "markdown",
   "metadata": {},
   "source": [
    "#### #NFL"
   ]
  },
  {
   "cell_type": "code",
   "execution_count": 130,
   "metadata": {
    "collapsed": true
   },
   "outputs": [],
   "source": [
    "nfl_bar = {}\n",
    "\n",
    "if os.path.isfile(\"./nfl_bar.pkl\"):\n",
    "    nfl_bar = pickle.load(open(\"./nfl_bar.pkl\", \"rb\"))\n",
    "else:\n",
    "    file_name='tweets_#nfl.txt'\n",
    "    with open(os.path.join(data_path, file_name)) as text:\n",
    "        for i, line in enumerate(text):\n",
    "            json_object = json.loads(line)\n",
    "            t = int(json_object['citation_date']/3600)\n",
    "            if t in nfl_bar.keys():\n",
    "                nfl_bar[t] += 1\n",
    "            else:\n",
    "                nfl_bar[t] = 1\n",
    "    pickle.dump(nfl_bar, open(\"./nfl_bar.pkl\", \"wb\")) "
   ]
  },
  {
   "cell_type": "code",
   "execution_count": 131,
   "metadata": {},
   "outputs": [
    {
     "data": {
      "image/png": "[encoded data removed]",
      "text/plain": [
       "<matplotlib.figure.Figure at 0x22c8399b5f8>"
      ]
     },
     "metadata": {},
     "output_type": "display_data"
    }
   ],
   "source": [
    "plt.figure(figsize=(13, 6))\n",
    "plt.bar(nfl_bar.keys(), nfl_bar.values())\n",
    "plt.xlabel('Hour (UTC)', fontsize=16)\n",
    "plt.ylabel('# of tweets', fontsize=16)\n",
    "plt.title('#NFL', fontsize=16)\n",
    "plt.show()"
   ]
  },
  {
   "cell_type": "markdown",
   "metadata": {},
   "source": [
    "#### problem 1.2"
   ]
  },
  {
   "cell_type": "code",
   "execution_count": 132,
   "metadata": {
    "collapsed": true
   },
   "outputs": [],
   "source": [
    "import datetime, time\n",
    "import pytz\n",
    "pst_tz = pytz.timezone('US/Pacific')\n",
    "\n",
    "tweet_features1b = []\n",
    "\n",
    "if os.path.isfile(\"./tweet_features1b.pkl\"):\n",
    "    tweet_features1b = pickle.load(open(\"./tweet_features1b.pkl\", \"rb\"))\n",
    "#    [ntweets, nretweets, sumfollowers, maxfollowers, hour] = tweet_features1b\n",
    "else:\n",
    "    # tag_hr: [ntweets, nretweets, sumfollowers, maxfollowers, hour]\n",
    "    for idx, file_name in enumerate(filelist):\n",
    "        min_hr = mindatalist[idx]//3600\n",
    "        max_hr = maxdatalist[idx]//3600\n",
    "        num_hr = max_hr - min_hr + 1\n",
    "        tag_hr = np.zeros([num_hr, 5])\n",
    "        \n",
    "        time = datetime.datetime.fromtimestamp(mindatalist[idx], pst_tz)\n",
    "        tag_hr[0][4] = time.hour\n",
    "        for n in range(1, num_hr):\n",
    "            tag_hr[n][4] = (tag_hr[n-1][4] + 1) % 24\n",
    "            \n",
    "        with open(os.path.join(data_path, file_name)) as text:\n",
    "            print (\"loaded \" + file_name)\n",
    "\n",
    "            for i, line in enumerate(text):\n",
    "                json_object = json.loads(line)\n",
    "                hr = int(json_object['citation_date']/3600) - min_hr\n",
    "                tag_hr[hr][0] += 1\n",
    "                tag_hr[hr][1] += json_object['metrics']['citations']['total']\n",
    "                tag_hr[hr][2] += json_object['author']['followers']\n",
    "                if json_object['author']['followers'] > tag_hr[hr][3]:\n",
    "                    tag_hr[hr][3]=json_object['author']['followers']\n",
    "    \n",
    "        tweet_features1b.append(tag_hr)\n",
    "    pickle.dump(tweet_features1b, open(\"./tweet_features1b.pkl\", \"wb\")) \n",
    "            "
   ]
  },
  {
   "cell_type": "code",
   "execution_count": 133,
   "metadata": {},
   "outputs": [
    {
     "name": "stdout",
     "output_type": "stream",
     "text": [
      "Linear Regression Model using 5-hr window for #gohawks \n",
      " -----------------------------------------------------------------------------\n",
      "                            OLS Regression Results                            \n",
      "==============================================================================\n",
      "Dep. Variable:                      y   R-squared:                       0.525\n",
      "Model:                            OLS   Adj. R-squared:                  0.521\n",
      "Method:                 Least Squares   F-statistic:                     125.9\n",
      "Date:                Mon, 19 Mar 2018   Prob (F-statistic):           1.22e-89\n",
      "Time:                        12:35:10   Log-Likelihood:                -6160.4\n",
      "No. Observations:                 574   AIC:                         1.233e+04\n",
      "Df Residuals:                     569   BIC:                         1.235e+04\n",
      "Df Model:                           5                                         \n",
      "Covariance Type:            nonrobust                                         \n",
      "==============================================================================\n",
      "                 coef    std err          t      P>|t|      [0.025      0.975]\n",
      "------------------------------------------------------------------------------\n",
      "x1             2.6465      0.470      5.635      0.000       1.724       3.569\n",
      "x2            -0.6965      0.086     -8.101      0.000      -0.865      -0.528\n",
      "x3            -0.0004      0.000     -2.034      0.042      -0.001   -1.49e-05\n",
      "x4             0.0020      0.001      2.357      0.019       0.000       0.004\n",
      "x5            23.8060     16.037      1.484      0.138      -7.692      55.304\n",
      "==============================================================================\n",
      "Omnibus:                      484.970   Durbin-Watson:                   0.123\n",
      "Prob(Omnibus):                  0.000   Jarque-Bera (JB):            12737.726\n",
      "Skew:                           3.615   Prob(JB):                         0.00\n",
      "Kurtosis:                      24.916   Cond. No.                     1.09e+06\n",
      "==============================================================================\n",
      "\n",
      "Warnings:\n",
      "[1] Standard Errors assume that the covariance matrix of the errors is correctly specified.\n",
      "[2] The condition number is large, 1.09e+06. This might indicate that there are\n",
      "strong multicollinearity or other numerical problems.\n",
      "\n",
      "\n",
      "\n",
      "\n",
      "\n",
      "Linear Regression Model using 5-hr window for #gopatriots \n",
      " -----------------------------------------------------------------------------\n",
      "                            OLS Regression Results                            \n",
      "==============================================================================\n",
      "Dep. Variable:                      y   R-squared:                       0.540\n",
      "Model:                            OLS   Adj. R-squared:                  0.536\n",
      "Method:                 Least Squares   F-statistic:                     132.6\n",
      "Date:                Mon, 19 Mar 2018   Prob (F-statistic):           8.62e-93\n",
      "Time:                        12:35:10   Log-Likelihood:                -5262.5\n",
      "No. Observations:                 570   AIC:                         1.053e+04\n",
      "Df Residuals:                     565   BIC:                         1.056e+04\n",
      "Df Model:                           5                                         \n",
      "Covariance Type:            nonrobust                                         \n",
      "==============================================================================\n",
      "                 coef    std err          t      P>|t|      [0.025      0.975]\n",
      "------------------------------------------------------------------------------\n",
      "x1            -5.1077      1.108     -4.612      0.000      -7.283      -2.932\n",
      "x2             1.6638      0.849      1.960      0.050      -0.004       3.331\n",
      "x3             0.0031      0.000     11.333      0.000       0.003       0.004\n",
      "x4            -0.0049      0.001     -8.511      0.000      -0.006      -0.004\n",
      "x5             2.9580      3.069      0.964      0.336      -3.071       8.987\n",
      "==============================================================================\n",
      "Omnibus:                      605.903   Durbin-Watson:                   0.213\n",
      "Prob(Omnibus):                  0.000   Jarque-Bera (JB):            40516.526\n",
      "Skew:                           4.787   Prob(JB):                         0.00\n",
      "Kurtosis:                      43.178   Cond. No.                     1.37e+05\n",
      "==============================================================================\n",
      "\n",
      "Warnings:\n",
      "[1] Standard Errors assume that the covariance matrix of the errors is correctly specified.\n",
      "[2] The condition number is large, 1.37e+05. This might indicate that there are\n",
      "strong multicollinearity or other numerical problems.\n",
      "\n",
      "\n",
      "\n",
      "\n",
      "\n",
      "Linear Regression Model using 5-hr window for #nfl \n",
      " -----------------------------------------------------------------------------\n",
      "                            OLS Regression Results                            \n",
      "==============================================================================\n",
      "Dep. Variable:                      y   R-squared:                       0.641\n",
      "Model:                            OLS   Adj. R-squared:                  0.638\n",
      "Method:                 Least Squares   F-statistic:                     206.0\n",
      "Date:                Mon, 19 Mar 2018   Prob (F-statistic):          8.84e-126\n",
      "Time:                        12:35:10   Log-Likelihood:                -6008.9\n",
      "No. Observations:                 582   AIC:                         1.203e+04\n",
      "Df Residuals:                     577   BIC:                         1.205e+04\n",
      "Df Model:                           5                                         \n",
      "Covariance Type:            nonrobust                                         \n",
      "==============================================================================\n",
      "                 coef    std err          t      P>|t|      [0.025      0.975]\n",
      "------------------------------------------------------------------------------\n",
      "x1             1.3712      0.281      4.883      0.000       0.820       1.923\n",
      "x2            -0.9426      0.154     -6.127      0.000      -1.245      -0.640\n",
      "x3             0.0002   2.99e-05      6.976      0.000       0.000       0.000\n",
      "x4            -0.0003      0.000     -1.984      0.048      -0.001   -3.29e-06\n",
      "x5            18.0647     13.124      1.376      0.169      -7.712      43.842\n",
      "==============================================================================\n",
      "Omnibus:                      432.974   Durbin-Watson:                   0.131\n",
      "Prob(Omnibus):                  0.000   Jarque-Bera (JB):            16123.553\n",
      "Skew:                           2.828   Prob(JB):                         0.00\n",
      "Kurtosis:                      28.157   Cond. No.                     2.42e+06\n",
      "==============================================================================\n",
      "\n",
      "Warnings:\n",
      "[1] Standard Errors assume that the covariance matrix of the errors is correctly specified.\n",
      "[2] The condition number is large, 2.42e+06. This might indicate that there are\n",
      "strong multicollinearity or other numerical problems.\n",
      "\n",
      "\n",
      "\n",
      "\n",
      "\n",
      "Linear Regression Model using 5-hr window for #patriots \n",
      " -----------------------------------------------------------------------------\n",
      "                            OLS Regression Results                            \n",
      "==============================================================================\n",
      "Dep. Variable:                      y   R-squared:                       0.652\n",
      "Model:                            OLS   Adj. R-squared:                  0.649\n",
      "Method:                 Least Squares   F-statistic:                     216.4\n",
      "Date:                Mon, 19 Mar 2018   Prob (F-statistic):          9.26e-130\n",
      "Time:                        12:35:10   Log-Likelihood:                -6887.5\n",
      "No. Observations:                 582   AIC:                         1.379e+04\n",
      "Df Residuals:                     577   BIC:                         1.381e+04\n",
      "Df Model:                           5                                         \n",
      "Covariance Type:            nonrobust                                         \n",
      "==============================================================================\n",
      "                 coef    std err          t      P>|t|      [0.025      0.975]\n",
      "------------------------------------------------------------------------------\n",
      "x1             1.0543      0.150      7.009      0.000       0.759       1.350\n",
      "x2             0.7586      0.176      4.302      0.000       0.412       1.105\n",
      "x3            -0.0008    7.3e-05    -11.093      0.000      -0.001      -0.001\n",
      "x4             0.0037      0.001      6.248      0.000       0.003       0.005\n",
      "x5           121.5567     50.312      2.416      0.016      22.740     220.374\n",
      "==============================================================================\n",
      "Omnibus:                      699.930   Durbin-Watson:                   0.107\n",
      "Prob(Omnibus):                  0.000   Jarque-Bera (JB):            56622.951\n",
      "Skew:                           5.902   Prob(JB):                         0.00\n",
      "Kurtosis:                      49.857   Cond. No.                     4.25e+06\n",
      "==============================================================================\n",
      "\n",
      "Warnings:\n",
      "[1] Standard Errors assume that the covariance matrix of the errors is correctly specified.\n",
      "[2] The condition number is large, 4.25e+06. This might indicate that there are\n",
      "strong multicollinearity or other numerical problems.\n",
      "\n",
      "\n",
      "\n",
      "\n",
      "\n",
      "Linear Regression Model using 5-hr window for #sb49 \n",
      " -----------------------------------------------------------------------------\n",
      "                            OLS Regression Results                            \n",
      "==============================================================================\n",
      "Dep. Variable:                      y   R-squared:                       0.776\n",
      "Model:                            OLS   Adj. R-squared:                  0.774\n",
      "Method:                 Least Squares   F-statistic:                     397.7\n",
      "Date:                Mon, 19 Mar 2018   Prob (F-statistic):          1.22e-183\n",
      "Time:                        12:35:10   Log-Likelihood:                -7202.6\n",
      "No. Observations:                 578   AIC:                         1.442e+04\n",
      "Df Residuals:                     573   BIC:                         1.444e+04\n",
      "Df Model:                           5                                         \n",
      "Covariance Type:            nonrobust                                         \n",
      "==============================================================================\n",
      "                 coef    std err          t      P>|t|      [0.025      0.975]\n",
      "------------------------------------------------------------------------------\n",
      "x1            -0.1954      0.257     -0.761      0.447      -0.700       0.309\n",
      "x2             2.0508      0.254      8.089      0.000       1.553       2.549\n",
      "x3            -0.0005    4.2e-05    -12.734      0.000      -0.001      -0.000\n",
      "x4             0.0071      0.000     14.399      0.000       0.006       0.008\n",
      "x5          -291.9319     89.631     -3.257      0.001    -467.978    -115.886\n",
      "==============================================================================\n",
      "Omnibus:                      729.193   Durbin-Watson:                   0.187\n",
      "Prob(Omnibus):                  0.000   Jarque-Bera (JB):            78823.427\n",
      "Skew:                           6.293   Prob(JB):                         0.00\n",
      "Kurtosis:                      58.808   Cond. No.                     3.62e+07\n",
      "==============================================================================\n",
      "\n",
      "Warnings:\n",
      "[1] Standard Errors assume that the covariance matrix of the errors is correctly specified.\n",
      "[2] The condition number is large, 3.62e+07. This might indicate that there are\n",
      "strong multicollinearity or other numerical problems.\n",
      "\n",
      "\n",
      "\n",
      "\n",
      "\n",
      "Linear Regression Model using 5-hr window for #superbowl \n",
      " -----------------------------------------------------------------------------\n",
      "                            OLS Regression Results                            \n",
      "==============================================================================\n",
      "Dep. Variable:                      y   R-squared:                       0.717\n",
      "Model:                            OLS   Adj. R-squared:                  0.714\n",
      "Method:                 Least Squares   F-statistic:                     292.2\n",
      "Date:                Mon, 19 Mar 2018   Prob (F-statistic):          1.83e-155\n",
      "Time:                        12:35:10   Log-Likelihood:                -7560.1\n",
      "No. Observations:                 582   AIC:                         1.513e+04\n",
      "Df Residuals:                     577   BIC:                         1.515e+04\n",
      "Df Model:                           5                                         \n",
      "Covariance Type:            nonrobust                                         \n",
      "==============================================================================\n",
      "                 coef    std err          t      P>|t|      [0.025      0.975]\n",
      "------------------------------------------------------------------------------\n",
      "x1             8.8205      0.328     26.922      0.000       8.177       9.464\n",
      "x2            -3.5645      0.148    -24.009      0.000      -3.856      -3.273\n",
      "x3          2.865e-05   3.67e-05      0.781      0.435   -4.34e-05       0.000\n",
      "x4             0.0084      0.001      6.072      0.000       0.006       0.011\n",
      "x5          -923.8513    173.971     -5.310      0.000   -1265.545    -582.157\n",
      "==============================================================================\n",
      "Omnibus:                      659.385   Durbin-Watson:                   0.871\n",
      "Prob(Omnibus):                  0.000   Jarque-Bera (JB):            66554.318\n",
      "Skew:                           5.181   Prob(JB):                         0.00\n",
      "Kurtosis:                      54.353   Cond. No.                     5.24e+07\n",
      "==============================================================================\n",
      "\n",
      "Warnings:\n",
      "[1] Standard Errors assume that the covariance matrix of the errors is correctly specified.\n",
      "[2] The condition number is large, 5.24e+07. This might indicate that there are\n",
      "strong multicollinearity or other numerical problems.\n",
      "\n",
      "\n",
      "\n",
      "\n",
      "\n"
     ]
    }
   ],
   "source": [
    "import statsmodels.api as sm\n",
    "\n",
    "N = 5 # N-hour window used as feature\n",
    "for idx, tag in enumerate(taglist):\n",
    "    X = tweet_features1b[idx][:-N, :]\n",
    "    for i in range(1,N):\n",
    "#        X = np.concatenate((X, tweet_features1b[idx][i:(-N+i), :]), axis=1)    # this code uses 5N features\n",
    "        X[:, :3] = X[:, :3] + tweet_features1b[idx][i:(-N+i), :3]  # this combines 5N features to 5 features\n",
    "        X[:, 3] = np.max([X[:, 3], tweet_features1b[idx][i:(-N+i), 3]] , axis=0)\n",
    "        X[:, 4] = X[:, 4] + tweet_features1b[idx][i:(-N+i), 4]\n",
    "    X[:, 4] = X[:, 4]/N\n",
    "    \n",
    "    y = tweet_features1b[idx][N:, 0]\n",
    "    print(\"Linear Regression Model using %d-hr window for %s \\n\" % (N, tag), \"-\"*77)\n",
    "    mod = sm.OLS(y,X)\n",
    "    res = mod.fit()\n",
    "    print(res.summary())\n",
    "    print(\"\\n\"*4)"
   ]
  },
  {
   "cell_type": "markdown",
   "metadata": {},
   "source": [
    "#### Problem 1.3"
   ]
  },
  {
   "cell_type": "markdown",
   "metadata": {},
   "source": [
    "Features to use:\n",
    "1. number of tweets\n",
    "2. number of retweets\n",
    "3. potential impression\n",
    "4. ranking score\n",
    "5. hour of the day"
   ]
  },
  {
   "cell_type": "markdown",
   "metadata": {
    "collapsed": true
   },
   "source": [
    "An Impression refers to the point in which a tweet is displayed once on a webpage. A tweet impression is counted when a tweet is delivered to the Twitter stream of any account and the user has read it but here’s a catch; not every Twitter user whose timeline has been delivered with the tweet reads it. Therefore, we consider this as total number of potential impressions. Potential impression is the total number of times tweets were delivered to the Twitter streams."
   ]
  },
  {
   "cell_type": "code",
   "execution_count": 137,
   "metadata": {},
   "outputs": [
    {
     "name": "stdout",
     "output_type": "stream",
     "text": [
      "loaded tweets_#gohawks.txt\n",
      "loaded tweets_#gopatriots.txt\n",
      "loaded tweets_#nfl.txt\n",
      "loaded tweets_#patriots.txt\n",
      "loaded tweets_#sb49.txt\n",
      "loaded tweets_#superbowl.txt\n"
     ]
    }
   ],
   "source": [
    "tweet_features1c = []\n",
    "\n",
    "if os.path.isfile(\"./tweet_features1c.pkl\"):\n",
    "    tweet_features1c = pickle.load(open(\"./tweet_features1c.pkl\", \"rb\"))\n",
    "#    [ntweets, nretweets, sumfollowers, maxfollowers, hour] = tweet_features1b\n",
    "else:\n",
    "    # tag_hr: [ntweets, nretweets, sumfollowers, maxfollowers, hour]\n",
    "    for idx, file_name in enumerate(filelist):\n",
    "        min_hr = mindatalist[idx]//3600\n",
    "        tag_hr = tweet_features1b[idx]\n",
    "        tag_hr[:, 2:4] = np.zeros_like(tag_hr[:, 2:4])\n",
    "            \n",
    "        with open(os.path.join(data_path, file_name)) as text:\n",
    "            print (\"loaded \" + file_name)\n",
    "\n",
    "            for i, line in enumerate(text):\n",
    "                json_object = json.loads(line)\n",
    "                hr = int(json_object['citation_date']/3600) - min_hr\n",
    "                tag_hr[hr][2] += json_object['metrics']['impressions']\n",
    "                tag_hr[hr][3] += json_object['metrics']['ranking_score']\n",
    "    \n",
    "        tweet_features1c.append(tag_hr)\n",
    "    pickle.dump(tweet_features1c, open(\"./tweet_features1c.pkl\", \"wb\")) "
   ]
  },
  {
   "cell_type": "code",
   "execution_count": 138,
   "metadata": {},
   "outputs": [
    {
     "name": "stdout",
     "output_type": "stream",
     "text": [
      "Linear Regression Model using 5-hr window        and custom features for #gohawks \n",
      " -----------------------------------------------------------------------------\n",
      "                            OLS Regression Results                            \n",
      "==============================================================================\n",
      "Dep. Variable:                      y   R-squared:                       0.869\n",
      "Model:                            OLS   Adj. R-squared:                  0.868\n",
      "Method:                 Least Squares   F-statistic:                     756.1\n",
      "Date:                Mon, 19 Mar 2018   Prob (F-statistic):          1.46e-248\n",
      "Time:                        13:51:37   Log-Likelihood:                -5790.5\n",
      "No. Observations:                 574   AIC:                         1.159e+04\n",
      "Df Residuals:                     569   BIC:                         1.161e+04\n",
      "Df Model:                           5                                         \n",
      "Covariance Type:            nonrobust                                         \n",
      "==============================================================================\n",
      "                 coef    std err          t      P>|t|      [0.025      0.975]\n",
      "------------------------------------------------------------------------------\n",
      "x1             0.2534      0.020     12.635      0.000       0.214       0.293\n",
      "x2            -0.0147      0.012     -1.198      0.231      -0.039       0.009\n",
      "x3             0.0001      0.000      0.950      0.342      -0.000       0.000\n",
      "x4            -0.2807      0.054     -5.157      0.000      -0.388      -0.174\n",
      "x5             2.9021      1.481      1.959      0.051      -0.007       5.812\n",
      "==============================================================================\n",
      "Omnibus:                      363.133   Durbin-Watson:                   0.200\n",
      "Prob(Omnibus):                  0.000   Jarque-Bera (JB):            10732.562\n",
      "Skew:                           2.274   Prob(JB):                         0.00\n",
      "Kurtosis:                      23.690   Cond. No.                     7.04e+04\n",
      "==============================================================================\n",
      "\n",
      "Warnings:\n",
      "[1] Standard Errors assume that the covariance matrix of the errors is correctly specified.\n",
      "[2] The condition number is large, 7.04e+04. This might indicate that there are\n",
      "strong multicollinearity or other numerical problems.\n",
      "\n",
      "\n",
      "\n",
      "\n",
      "\n",
      "Linear Regression Model using 5-hr window        and custom features for #gopatriots \n",
      " -----------------------------------------------------------------------------\n",
      "                            OLS Regression Results                            \n",
      "==============================================================================\n",
      "Dep. Variable:                      y   R-squared:                       0.886\n",
      "Model:                            OLS   Adj. R-squared:                  0.885\n",
      "Method:                 Least Squares   F-statistic:                     879.5\n",
      "Date:                Mon, 19 Mar 2018   Prob (F-statistic):          7.92e-264\n",
      "Time:                        13:51:37   Log-Likelihood:                -4864.4\n",
      "No. Observations:                 570   AIC:                             9739.\n",
      "Df Residuals:                     565   BIC:                             9761.\n",
      "Df Model:                           5                                         \n",
      "Covariance Type:            nonrobust                                         \n",
      "==============================================================================\n",
      "                 coef    std err          t      P>|t|      [0.025      0.975]\n",
      "------------------------------------------------------------------------------\n",
      "x1            -0.9473      0.096     -9.907      0.000      -1.135      -0.759\n",
      "x2             0.9162      0.074     12.348      0.000       0.770       1.062\n",
      "x3            -0.0016      0.000    -10.712      0.000      -0.002      -0.001\n",
      "x4             0.1182      0.037      3.238      0.001       0.047       0.190\n",
      "x5            -0.8062      0.307     -2.624      0.009      -1.410      -0.203\n",
      "==============================================================================\n",
      "Omnibus:                      484.497   Durbin-Watson:                   0.259\n",
      "Prob(Omnibus):                  0.000   Jarque-Bera (JB):            27001.856\n",
      "Skew:                           3.325   Prob(JB):                         0.00\n",
      "Kurtosis:                      36.056   Cond. No.                     1.01e+04\n",
      "==============================================================================\n",
      "\n",
      "Warnings:\n",
      "[1] Standard Errors assume that the covariance matrix of the errors is correctly specified.\n",
      "[2] The condition number is large, 1.01e+04. This might indicate that there are\n",
      "strong multicollinearity or other numerical problems.\n",
      "\n",
      "\n",
      "\n",
      "\n",
      "\n",
      "Linear Regression Model using 5-hr window        and custom features for #nfl \n",
      " -----------------------------------------------------------------------------\n",
      "                            OLS Regression Results                            \n",
      "==============================================================================\n",
      "Dep. Variable:                      y   R-squared:                       0.889\n",
      "Model:                            OLS   Adj. R-squared:                  0.888\n",
      "Method:                 Least Squares   F-statistic:                     924.5\n",
      "Date:                Mon, 19 Mar 2018   Prob (F-statistic):          1.08e-272\n",
      "Time:                        13:51:37   Log-Likelihood:                -5667.2\n",
      "No. Observations:                 582   AIC:                         1.134e+04\n",
      "Df Residuals:                     577   BIC:                         1.137e+04\n",
      "Df Model:                           5                                         \n",
      "Covariance Type:            nonrobust                                         \n",
      "==============================================================================\n",
      "                 coef    std err          t      P>|t|      [0.025      0.975]\n",
      "------------------------------------------------------------------------------\n",
      "x1             0.3533      0.030     11.676      0.000       0.294       0.413\n",
      "x2            -0.0813      0.018     -4.452      0.000      -0.117      -0.045\n",
      "x3             0.0002   3.14e-05      5.160      0.000       0.000       0.000\n",
      "x4            -0.3535      0.032    -11.175      0.000      -0.416      -0.291\n",
      "x5             1.6508      1.216      1.358      0.175      -0.737       4.039\n",
      "==============================================================================\n",
      "Omnibus:                      307.299   Durbin-Watson:                   0.193\n",
      "Prob(Omnibus):                  0.000   Jarque-Bera (JB):            17018.792\n",
      "Skew:                           1.538   Prob(JB):                         0.00\n",
      "Kurtosis:                      29.312   Cond. No.                     1.45e+05\n",
      "==============================================================================\n",
      "\n",
      "Warnings:\n",
      "[1] Standard Errors assume that the covariance matrix of the errors is correctly specified.\n",
      "[2] The condition number is large, 1.45e+05. This might indicate that there are\n",
      "strong multicollinearity or other numerical problems.\n",
      "\n",
      "\n",
      "\n",
      "\n",
      "\n",
      "Linear Regression Model using 5-hr window        and custom features for #patriots \n",
      " -----------------------------------------------------------------------------\n",
      "                            OLS Regression Results                            \n",
      "==============================================================================\n",
      "Dep. Variable:                      y   R-squared:                       0.905\n",
      "Model:                            OLS   Adj. R-squared:                  0.904\n",
      "Method:                 Least Squares   F-statistic:                     1101.\n",
      "Date:                Mon, 19 Mar 2018   Prob (F-statistic):          2.40e-292\n",
      "Time:                        13:51:37   Log-Likelihood:                -6509.4\n",
      "No. Observations:                 582   AIC:                         1.303e+04\n",
      "Df Residuals:                     577   BIC:                         1.305e+04\n",
      "Df Model:                           5                                         \n",
      "Covariance Type:            nonrobust                                         \n",
      "==============================================================================\n",
      "                 coef    std err          t      P>|t|      [0.025      0.975]\n",
      "------------------------------------------------------------------------------\n",
      "x1             0.3062      0.026     11.874      0.000       0.256       0.357\n",
      "x2            -0.0458      0.020     -2.243      0.025      -0.086      -0.006\n",
      "x3             0.0004   4.74e-05      8.246      0.000       0.000       0.000\n",
      "x4            -0.4218      0.025    -16.810      0.000      -0.471      -0.373\n",
      "x5            -3.7366      4.399     -0.849      0.396     -12.377       4.904\n",
      "==============================================================================\n",
      "Omnibus:                      631.393   Durbin-Watson:                   0.205\n",
      "Prob(Omnibus):                  0.000   Jarque-Bera (JB):            60932.673\n",
      "Skew:                           4.806   Prob(JB):                         0.00\n",
      "Kurtosis:                      52.197   Cond. No.                     2.46e+05\n",
      "==============================================================================\n",
      "\n",
      "Warnings:\n",
      "[1] Standard Errors assume that the covariance matrix of the errors is correctly specified.\n",
      "[2] The condition number is large, 2.46e+05. This might indicate that there are\n",
      "strong multicollinearity or other numerical problems.\n",
      "\n",
      "\n",
      "\n",
      "\n",
      "\n",
      "Linear Regression Model using 5-hr window        and custom features for #sb49 \n",
      " -----------------------------------------------------------------------------\n",
      "                            OLS Regression Results                            \n",
      "==============================================================================\n",
      "Dep. Variable:                      y   R-squared:                       0.935\n",
      "Model:                            OLS   Adj. R-squared:                  0.934\n",
      "Method:                 Least Squares   F-statistic:                     1649.\n",
      "Date:                Mon, 19 Mar 2018   Prob (F-statistic):               0.00\n",
      "Time:                        13:51:37   Log-Likelihood:                -6845.3\n",
      "No. Observations:                 578   AIC:                         1.370e+04\n",
      "Df Residuals:                     573   BIC:                         1.372e+04\n",
      "Df Model:                           5                                         \n",
      "Covariance Type:            nonrobust                                         \n",
      "==============================================================================\n",
      "                 coef    std err          t      P>|t|      [0.025      0.975]\n",
      "------------------------------------------------------------------------------\n",
      "x1             0.6073      0.028     21.345      0.000       0.551       0.663\n",
      "x2            -0.1862      0.015    -12.393      0.000      -0.216      -0.157\n",
      "x3             0.0001   1.11e-05     10.539      0.000    9.51e-05       0.000\n",
      "x4            -0.2633      0.037     -7.170      0.000      -0.335      -0.191\n",
      "x5            22.7556      8.106      2.807      0.005       6.834      38.677\n",
      "==============================================================================\n",
      "Omnibus:                      653.504   Durbin-Watson:                   0.164\n",
      "Prob(Omnibus):                  0.000   Jarque-Bera (JB):            55959.495\n",
      "Skew:                           5.235   Prob(JB):                         0.00\n",
      "Kurtosis:                      50.053   Cond. No.                     2.18e+06\n",
      "==============================================================================\n",
      "\n",
      "Warnings:\n",
      "[1] Standard Errors assume that the covariance matrix of the errors is correctly specified.\n",
      "[2] The condition number is large, 2.18e+06. This might indicate that there are\n",
      "strong multicollinearity or other numerical problems.\n",
      "\n",
      "\n",
      "\n",
      "\n",
      "\n",
      "Linear Regression Model using 5-hr window        and custom features for #superbowl \n",
      " -----------------------------------------------------------------------------\n",
      "                            OLS Regression Results                            \n",
      "==============================================================================\n",
      "Dep. Variable:                      y   R-squared:                       0.973\n",
      "Model:                            OLS   Adj. R-squared:                  0.973\n",
      "Method:                 Least Squares   F-statistic:                     4183.\n",
      "Date:                Mon, 19 Mar 2018   Prob (F-statistic):               0.00\n",
      "Time:                        13:51:37   Log-Likelihood:                -6874.5\n",
      "No. Observations:                 582   AIC:                         1.376e+04\n",
      "Df Residuals:                     577   BIC:                         1.378e+04\n",
      "Df Model:                           5                                         \n",
      "Covariance Type:            nonrobust                                         \n",
      "==============================================================================\n",
      "                 coef    std err          t      P>|t|      [0.025      0.975]\n",
      "------------------------------------------------------------------------------\n",
      "x1             2.0141      0.034     58.662      0.000       1.947       2.081\n",
      "x2            -0.7619      0.015    -52.412      0.000      -0.790      -0.733\n",
      "x3             0.0002   1.86e-05     12.946      0.000       0.000       0.000\n",
      "x4            -0.3125      0.028    -11.038      0.000      -0.368      -0.257\n",
      "x5           -49.0017      7.810     -6.274      0.000     -64.342     -33.661\n",
      "==============================================================================\n",
      "Omnibus:                      192.315   Durbin-Watson:                   0.574\n",
      "Prob(Omnibus):                  0.000   Jarque-Bera (JB):             3687.871\n",
      "Skew:                           0.948   Prob(JB):                         0.00\n",
      "Kurtosis:                      15.185   Cond. No.                     2.86e+06\n",
      "==============================================================================\n",
      "\n",
      "Warnings:\n",
      "[1] Standard Errors assume that the covariance matrix of the errors is correctly specified.\n",
      "[2] The condition number is large, 2.86e+06. This might indicate that there are\n",
      "strong multicollinearity or other numerical problems.\n",
      "\n",
      "\n",
      "\n",
      "\n",
      "\n"
     ]
    }
   ],
   "source": [
    "N2 = 5 # N-hour window used as feature\n",
    "for idx, tag in enumerate(taglist):\n",
    "    X = tweet_features1c[idx][:-N2, :]\n",
    "    for i in range(1,N2):\n",
    "#        X = np.concatenate((X, tweet_features1b[idx][i:(-N+i), :]), axis=1)    # this code uses 5N features\n",
    "        X = X + tweet_features1c[idx][i:(-N2+i), :]  # this combines 5N features to 5 features\n",
    "    \n",
    "    y = tweet_features1c[idx][N:, 0]\n",
    "    print(\"Linear Regression Model using %d-hr window\\\n",
    "        and custom features for %s \\n\" % (N2, tag), \"-\"*77)\n",
    "    mod = sm.OLS(y,X)\n",
    "    res = mod.fit()\n",
    "    print(res.summary())\n",
    "    print(\"\\n\"*4)"
   ]
  },
  {
   "cell_type": "markdown",
   "metadata": {
    "collapsed": true
   },
   "source": [
    "### Part 2"
   ]
  },
  {
   "cell_type": "code",
   "execution_count": 120,
   "metadata": {
    "collapsed": true
   },
   "outputs": [],
   "source": [
    "# superbowl, get the features and labels\n",
    "import json, os\n",
    "import pickle\n",
    "\n",
    "file_name = 'tweets_#superbowl.txt'\n",
    "data_path = \"./tweet_data\"\n",
    "\n",
    "X = []\n",
    "y = []\n",
    "locationlist = []\n",
    "\n",
    "if os.path.isfile(\"./part2.pkl\"):\n",
    "    part2 = pickle.load(open(\"./part2.pkl\", \"rb\"))\n",
    "    [X, y, locationlist] = part2\n",
    "else:\n",
    "    # extract X,y\n",
    "    # y: WA set to 1, MA set to 0\n",
    "    inlist_w=['washington','WA','Washington']\n",
    "    notinlist_w=['DC','D.C.']\n",
    "    inlist_m=['Massachusetts','massachusetts','MA']\n",
    "\n",
    "    with open(os.path.join(data_path,file_name)) as text:\n",
    "        for i, line in enumerate(text):\n",
    "            json_object = json.loads(line)\n",
    "            loc = json_object['tweet']['user']['location']\n",
    "            if any([v1 in loc for v1 in inlist_w])\\\n",
    "            and all([v2 not in loc for v2 in notinlist_w]):\n",
    "                X.append(json_object['tweet']['text'])\n",
    "                y.append(1)\n",
    "                locationlist.append(loc)\n",
    "            if any(v1 in loc for v1 in inlist_m):\n",
    "                X.append(json_object['tweet']['text'])\n",
    "                y.append(0)\n",
    "                locationlist.append(loc)\n",
    "    part2 = [X, y, locationlist]\n",
    "    pickle.dump(part2, open(\"./part2.pkl\", \"wb\")) "
   ]
  },
  {
   "cell_type": "code",
   "execution_count": 121,
   "metadata": {
    "collapsed": true
   },
   "outputs": [],
   "source": [
    "from nltk.stem.snowball import SnowballStemmer\n",
    "from sklearn.feature_extraction.text import CountVectorizer\n",
    "from sklearn.feature_extraction.text import TfidfTransformer\n",
    "from string import punctuation\n",
    "import nltk\n",
    "import re\n",
    "# nltk.download('punkt')\n",
    "\n",
    "from sklearn.feature_extraction import text\n",
    "stop_words = text.ENGLISH_STOP_WORDS\n",
    "stemmer = SnowballStemmer(\"english\", ignore_stopwords=True)\n",
    "\n",
    "def stem_tokens(tokens, stemmer):\n",
    "    stemmed = []\n",
    "    for item in tokens:\n",
    "        stemmed.append(stemmer.stem(item))\n",
    "    return stemmed\n",
    "\n",
    "def tokenize(text):\n",
    "    text = \"\".join([ch for ch in text if ch not in punctuation])\n",
    "    tokens = nltk.word_tokenize(text)\n",
    "    stems = stem_tokens(tokens, stemmer)\n",
    "    return stems\n",
    "\n",
    "def cleanup(data_set):\n",
    "    for i in range(len(data_set)):\n",
    "        temp = tokenize(data_set[i])\n",
    "        data_set[i]=' '.join(temp)"
   ]
  },
  {
   "cell_type": "code",
   "execution_count": 122,
   "metadata": {
    "collapsed": true
   },
   "outputs": [],
   "source": [
    "cleanup(X)\n",
    "\n",
    "vectorizer = CountVectorizer(min_df=5, stop_words='english') \n",
    "X_f=vectorizer.fit_transform(X)\n",
    "\n",
    "tfidf_transformer = TfidfTransformer()\n",
    "X_tfidf = tfidf_transformer.fit_transform(X_f)\n",
    "\n",
    "from sklearn.decomposition import TruncatedSVD\n",
    "SVD = TruncatedSVD(n_components=50, algorithm='arpack')\n",
    "X_lsi = SVD.fit_transform(X_tfidf)"
   ]
  },
  {
   "cell_type": "code",
   "execution_count": 89,
   "metadata": {
    "collapsed": true
   },
   "outputs": [],
   "source": [
    "import matplotlib.pyplot as plt\n",
    "from sklearn.metrics import accuracy_score\n",
    "from sklearn.metrics import roc_curve\n",
    "from sklearn.metrics import auc\n",
    "from sklearn import metrics\n",
    "import itertools\n",
    "\n",
    "def printusefulinfo(classifier, input_train, output_train,\\\n",
    "                    input_test, output_test, classes=[\"WA\", \"MA\"] ):\n",
    "    n = len(classes)\n",
    "    classifier.fit(input_train,output_train) # train the classifier\n",
    "    output_pred = classifier.predict(input_test) # make predictions\n",
    "    output_pred_prob = classifier.predict_proba(input_test)\n",
    "    \n",
    "    # draw ROC\n",
    "    fpr, tpr, threshold = roc_curve(output_test, output_pred_prob[:,1], pos_label=1)\n",
    "    roc_auc = auc(fpr,tpr)\n",
    "    plt.figure()\n",
    "    plt.plot(fpr, tpr, color='lightsteelblue',\n",
    "             lw=2, label='AUC (area = %0.2f)' % roc_auc)\n",
    "    plt.plot([0, 1], [0, 1], color='deeppink', lw=2, linestyle='--')\n",
    "    plt.xlim([0.0, 1.0])\n",
    "    plt.ylim([0.0, 1.05])\n",
    "    plt.xlabel('False Positive Rate (FPR)')\n",
    "    plt.ylabel('True Positive Rate (TPR)')\n",
    "    plt.title('Receiver operating characteristic')\n",
    "    plt.legend(loc=\"lower right\")\n",
    "    plt.show()\n",
    "    \n",
    "    # draw confusion matrix\n",
    "    cmatrix = metrics.confusion_matrix(output_test, output_pred)\n",
    "    plt.imshow(cmatrix, interpolation='nearest', cmap=plt.cm.BuGn)\n",
    "    plt.title(\"Confusion Matrix\")\n",
    "    tick_marks = np.arange(len(classes))\n",
    "    plt.xticks(tick_marks, classes, rotation=25)\n",
    "    plt.yticks(tick_marks, classes)\n",
    "    fmt = 'd'\n",
    "    thresh = cmatrix.max() / 2.\n",
    "    for i, j in itertools.product(range(n), range(n)):\n",
    "        plt.text(j, i, format(cmatrix[i, j], fmt),\n",
    "                horizontalalignment=\"center\",\n",
    "                color=\"white\" if cmatrix[i, j] > thresh else \"black\")\n",
    "    plt.tight_layout()\n",
    "    plt.ylabel('True')\n",
    "    plt.xlabel('Predicted')\n",
    "    plt.show()\n",
    "    \n",
    "    print(\"accuracy: \", accuracy_score(output_test, output_pred))\n",
    "    print ('-------------------------------------------------------')\n",
    "    print (metrics.classification_report(output_test, output_pred, target_names=classes),)"
   ]
  },
  {
   "cell_type": "markdown",
   "metadata": {},
   "source": [
    "##### Try SVM"
   ]
  },
  {
   "cell_type": "code",
   "execution_count": 90,
   "metadata": {
    "collapsed": true
   },
   "outputs": [],
   "source": [
    "from sklearn import svm\n",
    "from sklearn.model_selection import train_test_split\n",
    "X_train, X_test, y_train, y_test = train_test_split(X_lsi, y, test_size=0.3, random_state=42)\n"
   ]
  },
  {
   "cell_type": "code",
   "execution_count": null,
   "metadata": {
    "collapsed": true
   },
   "outputs": [],
   "source": [
    "from sklearn.model_selection import cross_val_score\n",
    "svc = svm.SVC(kernel='linear')\n",
    "knumber = [0.001, 0.01, 0.1, 1, 10, 100, 1000]\n",
    "'''\n",
    "scores = []\n",
    "for k in knumber:\n",
    "    print (k)\n",
    "    svc.C=k\n",
    "    this_scores = cross_val_score(svc, X_lsi, y, n_jobs=-2)\n",
    "    scores.append(np.mean(this_scores))\n",
    "    \n",
    "desiredknumber = knumber[np.argmax(scores)]\n",
    "'''"
   ]
  },
  {
   "cell_type": "code",
   "execution_count": 91,
   "metadata": {
    "collapsed": true
   },
   "outputs": [],
   "source": [
    "desiredknumber = 0.1 # not to waste time recomputing it\n",
    "classifier_desire = svm.SVC(kernel='linear', C=desiredknumber, probability = True)"
   ]
  },
  {
   "cell_type": "code",
   "execution_count": 92,
   "metadata": {},
   "outputs": [
    {
     "data": {
      "image/png": "[encoded data removed]",
      "text/plain": [
       "<matplotlib.figure.Figure at 0x22ce8710e48>"
      ]
     },
     "metadata": {},
     "output_type": "display_data"
    },
    {
     "data": {
      "image/png": "[encoded data removed]",
      "text/plain": [
       "<matplotlib.figure.Figure at 0x22ceb12c358>"
      ]
     },
     "metadata": {},
     "output_type": "display_data"
    },
    {
     "name": "stdout",
     "output_type": "stream",
     "text": [
      "accuracy:  0.764378478664\n",
      "-------------------------------------------------------\n",
      "             precision    recall  f1-score   support\n",
      "\n",
      "         WA       0.70      0.95      0.81      5094\n",
      "         MA       0.91      0.56      0.69      4608\n",
      "\n",
      "avg / total       0.80      0.76      0.75      9702\n",
      "\n"
     ]
    }
   ],
   "source": [
    "printusefulinfo(classifier_desire, X_train, y_train, X_test, y_test)"
   ]
  },
  {
   "cell_type": "markdown",
   "metadata": {},
   "source": [
    "##### use naïve Bayes algorithm"
   ]
  },
  {
   "cell_type": "code",
   "execution_count": 93,
   "metadata": {
    "collapsed": true
   },
   "outputs": [],
   "source": [
    "from sklearn.naive_bayes import GaussianNB\n",
    "gnb = GaussianNB()"
   ]
  },
  {
   "cell_type": "code",
   "execution_count": 94,
   "metadata": {},
   "outputs": [
    {
     "data": {
      "image/png": "[encoded data removed]",
      "text/plain": [
       "<matplotlib.figure.Figure at 0x22cea63fb70>"
      ]
     },
     "metadata": {},
     "output_type": "display_data"
    },
    {
     "data": {
      "image/png": "[encoded data removed]",
      "text/plain": [
       "<matplotlib.figure.Figure at 0x22ceb16a4a8>"
      ]
     },
     "metadata": {},
     "output_type": "display_data"
    },
    {
     "name": "stdout",
     "output_type": "stream",
     "text": [
      "accuracy:  0.707792207792\n",
      "-------------------------------------------------------\n",
      "             precision    recall  f1-score   support\n",
      "\n",
      "         WA       0.68      0.82      0.75      5094\n",
      "         MA       0.75      0.58      0.65      4608\n",
      "\n",
      "avg / total       0.71      0.71      0.70      9702\n",
      "\n"
     ]
    }
   ],
   "source": [
    "printusefulinfo(gnb, X_train, y_train, X_test, y_test)"
   ]
  },
  {
   "cell_type": "markdown",
   "metadata": {},
   "source": [
    "##### use logistic regression"
   ]
  },
  {
   "cell_type": "code",
   "execution_count": 95,
   "metadata": {
    "collapsed": true
   },
   "outputs": [],
   "source": [
    "from sklearn.linear_model import LogisticRegression\n",
    "logreg = LogisticRegression()"
   ]
  },
  {
   "cell_type": "code",
   "execution_count": 96,
   "metadata": {},
   "outputs": [
    {
     "data": {
      "image/png": "[encoded data removed]",
      "text/plain": [
       "<matplotlib.figure.Figure at 0x22ceab74eb8>"
      ]
     },
     "metadata": {},
     "output_type": "display_data"
    },
    {
     "data": {
      "image/png": "[encoded data removed]",
      "text/plain": [
       "<matplotlib.figure.Figure at 0x22cea728828>"
      ]
     },
     "metadata": {},
     "output_type": "display_data"
    },
    {
     "name": "stdout",
     "output_type": "stream",
     "text": [
      "accuracy:  0.778086992373\n",
      "-------------------------------------------------------\n",
      "             precision    recall  f1-score   support\n",
      "\n",
      "         WA       0.72      0.94      0.82      5094\n",
      "         MA       0.90      0.60      0.72      4608\n",
      "\n",
      "avg / total       0.81      0.78      0.77      9702\n",
      "\n"
     ]
    }
   ],
   "source": [
    "printusefulinfo(logreg, X_train, y_train, X_test, y_test)"
   ]
  },
  {
   "cell_type": "code",
   "execution_count": null,
   "metadata": {
    "collapsed": true
   },
   "outputs": [],
   "source": []
  }
 ],
 "metadata": {
  "kernelspec": {
   "display_name": "Python 3",
   "language": "python",
   "name": "python3"
  },
  "language_info": {
   "codemirror_mode": {
    "name": "ipython",
    "version": 3
   },
   "file_extension": ".py",
   "mimetype": "text/x-python",
   "name": "python",
   "nbconvert_exporter": "python",
   "pygments_lexer": "ipython3",
   "version": "3.6.4"
  }
 },
 "nbformat": 4,
 "nbformat_minor": 2
}
