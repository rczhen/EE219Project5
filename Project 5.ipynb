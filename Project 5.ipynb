{
 "cells": [
  {
   "cell_type": "markdown",
   "metadata": {},
   "source": [
    "### problem 1.1"
   ]
  },
  {
   "cell_type": "code",
   "execution_count": 46,
   "metadata": {
    "scrolled": false
   },
   "outputs": [
    {
     "name": "stdout",
     "output_type": "stream",
     "text": [
      "loaded tweets_#nfl.txt\n",
      "loaded tweets_#superbowl.txt\n",
      "loaded tweets_#sb49.txt\n",
      "loaded tweets_#patriots.txt\n",
      "loaded tweets_#gohawks.txt\n",
      "loaded tweets_#gopatriots.txt\n"
     ]
    }
   ],
   "source": [
    "import json,os\n",
    "data_path = \"./tweet_data\"\n",
    "\n",
    "filelist=[]\n",
    "tweetslist=[]\n",
    "retweetslist=[]\n",
    "followerslist=[]\n",
    "mindatalist=[]\n",
    "maxdatalist=[]\n",
    "\n",
    "for file_name in os.listdir(data_path):\n",
    "    #print file_name\n",
    "    filelist.append(file_name)\n",
    "    number_of_tweets = 0\n",
    "    number_of_retweets = 0\n",
    "    number_of_followers = 0\n",
    "    min_data = 100000000000000\n",
    "    max_data = 0\n",
    "    if file_name.endswith(\".txt\"):\n",
    "        with open(os.path.join(data_path,file_name)) as text:\n",
    "            print (\"loaded \" + file_name)\n",
    "            for i, line in enumerate(text):\n",
    "                json_object = json.loads(line)\n",
    "                number_of_tweets += 1\n",
    "                number_of_followers += json_object['author']['followers']\n",
    "                number_of_retweets += json_object['metrics']['citations']['total']\n",
    "                t = json_object['citation_date']\n",
    "                if t>max_data:\n",
    "                    max_data=t\n",
    "                if t<min_data:\n",
    "                    min_data=t\n",
    "            tweetslist.append(number_of_tweets)\n",
    "            retweetslist.append(number_of_retweets)\n",
    "            followerslist.append(number_of_followers)\n",
    "            mindatalist.append(min_data)\n",
    "            maxdatalist.append(max_data)\n",
    "\n",
    "            \n",
    "#test:only evaluate first 11 tweet"
   ]
  },
  {
   "cell_type": "code",
   "execution_count": 52,
   "metadata": {},
   "outputs": [
    {
     "name": "stdout",
     "output_type": "stream",
     "text": [
      "['tweets_#nfl.txt', 'tweets_#superbowl.txt', 'tweets_#sb49.txt', 'tweets_#patriots.txt', 'tweets_#gohawks.txt', 'tweets_#gopatriots.txt']\n",
      "[259024, 1348767, 826951, 489713, 188136, 26232]\n",
      "[398517, 3221223, 2076597, 873068, 379022, 36727]\n",
      "[1205304020.0, 11948692679.0, 8490567936.0, 1620939662.0, 414638907.0, 36774523.0]\n",
      "[1421222404, 1421223187, 1421238675, 1421222838, 1421222681, 1421229011]\n",
      "[1423335336, 1423332008, 1423335336, 1423335300, 1423304269, 1423295675]\n"
     ]
    }
   ],
   "source": [
    "print (filelist)\n",
    "print (tweetslist)\n",
    "print (retweetslist)\n",
    "print (followerslist)\n",
    "print (mindatalist)\n",
    "print (maxdatalist)"
   ]
  },
  {
   "cell_type": "code",
   "execution_count": 58,
   "metadata": {
    "collapsed": true
   },
   "outputs": [],
   "source": [
    "import numpy as np\n",
    "difftime=np.subtract(maxdatalist,mindatalist)\n",
    "diffhour=difftime/3600"
   ]
  },
  {
   "cell_type": "code",
   "execution_count": 65,
   "metadata": {},
   "outputs": [
    {
     "name": "stdout",
     "output_type": "stream",
     "text": [
      "[  441.32343114  2302.50040188  1419.88790749   834.55550916   325.3715913\n",
      "    45.69451057]\n",
      "[  4653.2522855    8858.97466278  10267.31684949   3309.97882842\n",
      "   2203.93176744   1401.8955093 ]\n",
      "[ 1.53853311  2.3882724   2.51114879  1.78281565  2.01461709  1.40008387]\n"
     ]
    }
   ],
   "source": [
    "avgtweetsperhour=tweetslist/diffhour\n",
    "print (avgtweetsperhour)\n",
    "avgfollowers=np.array(followerslist)/np.array(tweetslist)   # wrong\n",
    "print (avgfollowers)\n",
    "avgnumofretweets=np.array(retweetslist)/np.array(tweetslist)\n",
    "print (avgnumofretweets)"
   ]
  },
  {
   "cell_type": "markdown",
   "metadata": {
    "collapsed": true
   },
   "source": [
    "#### #Superbowl"
   ]
  },
  {
   "cell_type": "code",
   "execution_count": 14,
   "metadata": {
    "collapsed": true
   },
   "outputs": [],
   "source": [
    "import json,os\n",
    "file_name='tweets_#superbowl.txt'\n",
    "data_path = \"./tweet_data\"\n",
    "dict={}\n",
    "with open(os.path.join(data_path,file_name)) as text:\n",
    "    for i, line in enumerate(text):\n",
    "        json_object=json.loads(line)\n",
    "        t=int(json_object['citation_date']/3600)\n",
    "        if t in dict.keys():\n",
    "            dict[t]+=1\n",
    "        else:\n",
    "            dict[t]=1"
   ]
  },
  {
   "cell_type": "code",
   "execution_count": 15,
   "metadata": {},
   "outputs": [
    {
     "data": {
      "image/png": "[encoded data removed]",
      "text/plain": [
       "<matplotlib.figure.Figure at 0x115199860>"
      ]
     },
     "metadata": {},
     "output_type": "display_data"
    }
   ],
   "source": [
    "import matplotlib.pyplot as plt\n",
    "plt.bar(dict.keys(),dict.values())\n",
    "plt.show()"
   ]
  },
  {
   "cell_type": "code",
   "execution_count": 7,
   "metadata": {
    "collapsed": true
   },
   "outputs": [],
   "source": [
    "import json,os\n",
    "file_name='tweets_#nfl.txt'\n",
    "data_path = \"./tweet_data\"\n",
    "dict={}\n",
    "with open(os.path.join(data_path,file_name)) as text:\n",
    "    for i, line in enumerate(text):\n",
    "        json_object=json.loads(line)\n",
    "        t=int(json_object['citation_date']/3600)\n",
    "        if t in dict.keys():\n",
    "            dict[t]+=1\n",
    "        else:\n",
    "            dict[t]=1"
   ]
  },
  {
   "cell_type": "code",
   "execution_count": 13,
   "metadata": {},
   "outputs": [
    {
     "data": {
      "image/png": "[encoded data removed]",
      "text/plain": [
       "<matplotlib.figure.Figure at 0x11d4f3ef0>"
      ]
     },
     "metadata": {},
     "output_type": "display_data"
    }
   ],
   "source": [
    "import matplotlib.pyplot as plt\n",
    "plt.bar(dict.keys(),dict.values())\n",
    "plt.show()"
   ]
  },
  {
   "cell_type": "markdown",
   "metadata": {},
   "source": [
    "#### #NFL"
   ]
  },
  {
   "cell_type": "markdown",
   "metadata": {},
   "source": [
    "### problem 1.2"
   ]
  },
  {
   "cell_type": "code",
   "execution_count": 6,
   "metadata": {
    "collapsed": true
   },
   "outputs": [],
   "source": [
    "import json,os\n",
    "import datetime,time\n",
    "import pytz\n",
    "pst_tz=pytz.timezone('US/Pacific')\n",
    "file_name='tweets_#nfl.txt'\n",
    "data_path = \"./tweet_data\"\n",
    "dict12={}\n",
    "with open(os.path.join(data_path,file_name)) as text:\n",
    "    for i, line in enumerate(text):\n",
    "        json_object=json.loads(line)\n",
    "        t=int(json_object['citation_date']/3600)\n",
    "        if t in dict12.keys():\n",
    "            dict12[t][0]+=1\n",
    "            dict12[t][1]+=json_object['metrics']['citations']['total']\n",
    "            dict12[t][2]+=json_object['author']['followers']\n",
    "            if json_object['author']['followers'] > dict12[t][3]:\n",
    "                dict12[t][3]=json_object['author']['followers']\n",
    "        else:\n",
    "            time=datetime.datetime.fromtimestamp(json_object['citation_date'], pst_tz)\n",
    "            dict12[t]=[1,json_object['metrics']['citations']['total'],json_object['author']['followers'],\\\n",
    "                       json_object['author']['followers'],time.hour]"
   ]
  },
  {
   "cell_type": "code",
   "execution_count": 25,
   "metadata": {
    "collapsed": true
   },
   "outputs": [],
   "source": [
    "fmatrix=[]\n",
    "for i in dict12.keys():\n",
    "    fmatrix.append(dict12[i])"
   ]
  },
  {
   "cell_type": "code",
   "execution_count": 27,
   "metadata": {
    "collapsed": true
   },
   "outputs": [],
   "source": [
    "fmatrix=np.array(fmatrix)"
   ]
  },
  {
   "cell_type": "code",
   "execution_count": 41,
   "metadata": {
    "collapsed": true
   },
   "outputs": [],
   "source": [
    "l,w=fmatrix.shape\n",
    "X=fmatrix[:l-1,:]\n",
    "y=fmatrix[1:,0]"
   ]
  },
  {
   "cell_type": "code",
   "execution_count": 45,
   "metadata": {},
   "outputs": [
    {
     "name": "stdout",
     "output_type": "stream",
     "text": [
      "                            OLS Regression Results                            \n",
      "==============================================================================\n",
      "Dep. Variable:                      y   R-squared:                       0.297\n",
      "Model:                            OLS   Adj. R-squared:                  0.291\n",
      "Method:                 Least Squares   F-statistic:                     48.77\n",
      "Date:                Tue, 13 Mar 2018   Prob (F-statistic):           4.18e-42\n",
      "Time:                        11:53:57   Log-Likelihood:                -4737.1\n",
      "No. Observations:                 582   AIC:                             9484.\n",
      "Df Residuals:                     577   BIC:                             9506.\n",
      "Df Model:                           5                                         \n",
      "Covariance Type:            nonrobust                                         \n",
      "==============================================================================\n",
      "                 coef    std err          t      P>|t|      [0.025      0.975]\n",
      "------------------------------------------------------------------------------\n",
      "x1             0.8616      0.189      4.563      0.000       0.491       1.232\n",
      "x2            -0.1880      0.091     -2.073      0.039      -0.366      -0.010\n",
      "x3         -8.407e-05   3.73e-05     -2.256      0.024      -0.000   -1.09e-05\n",
      "x4             0.0003    5.1e-05      5.585      0.000       0.000       0.000\n",
      "x5            10.4382      3.123      3.342      0.001       4.304      16.572\n",
      "==============================================================================\n",
      "Omnibus:                      770.079   Durbin-Watson:                   2.136\n",
      "Prob(Omnibus):                  0.000   Jarque-Bera (JB):           110599.999\n",
      "Skew:                           6.749   Prob(JB):                         0.00\n",
      "Kurtosis:                      69.171   Cond. No.                     4.26e+05\n",
      "==============================================================================\n",
      "\n",
      "Warnings:\n",
      "[1] Standard Errors assume that the covariance matrix of the errors is correctly specified.\n",
      "[2] The condition number is large, 4.26e+05. This might indicate that there are\n",
      "strong multicollinearity or other numerical problems.\n"
     ]
    }
   ],
   "source": [
    "import statsmodels.api as sm\n",
    "mod = sm.OLS(y,X)\n",
    "res=mod.fit()\n",
    "print (res.summary())"
   ]
  },
  {
   "cell_type": "markdown",
   "metadata": {
    "collapsed": true
   },
   "source": [
    "### Part 2"
   ]
  },
  {
   "cell_type": "code",
   "execution_count": 65,
   "metadata": {},
   "outputs": [],
   "source": [
    "#superbowl\n",
    "import json,os\n",
    "file_name='tweets_#superbowl.txt'\n",
    "data_path = \"./tweet_data\"\n",
    "X=[]\n",
    "y=[]\n",
    "locationlist=[]\n",
    "inlist_w=['washington','WA','Washington']\n",
    "notinlist_w=['DC','D.C.']\n",
    "inlist_m=['Massachusetts','massachusetts','MA']\n",
    "with open(os.path.join(data_path,file_name)) as text:\n",
    "    for i, line in enumerate(text):\n",
    "        json_object = json.loads(line)\n",
    "        if any(v1 in json_object['tweet']['user']['location'] for v1 in inlist_w)\\\n",
    "        and all(v2 not in json_object['tweet']['user']['location'] for v2 in notinlist_w):\n",
    "            X.append(json_object['tweet']['text'])\n",
    "            y.append(1)\n",
    "            locationlist.append(json_object['tweet']['user']['location'])\n",
    "        if any(v1 in json_object['tweet']['user']['location'] for v1 in inlist_m):\n",
    "            X.append(json_object['tweet']['text'])\n",
    "            y.append(0)\n",
    "            locationlist.append(json_object['tweet']['user']['location'])\n",
    "#extract X,y\n",
    "#WA set as 1, MA set as 0"
   ]
  },
  {
   "cell_type": "code",
   "execution_count": 76,
   "metadata": {
    "collapsed": true
   },
   "outputs": [],
   "source": [
    "from nltk.stem.snowball import SnowballStemmer\n",
    "from sklearn.feature_extraction.text import CountVectorizer\n",
    "from sklearn.feature_extraction.text import TfidfTransformer\n",
    "from string import punctuation\n",
    "import nltk\n",
    "import re"
   ]
  },
  {
   "cell_type": "code",
   "execution_count": 78,
   "metadata": {
    "collapsed": true
   },
   "outputs": [],
   "source": [
    "from sklearn.feature_extraction import text\n",
    "stop_words = text.ENGLISH_STOP_WORDS\n",
    "stemmer = SnowballStemmer(\"english\", ignore_stopwords=True)\n",
    "def stem_tokens(tokens, stemmer):\n",
    "    stemmed = []\n",
    "    for item in tokens:\n",
    "        stemmed.append(stemmer.stem(item))\n",
    "    return stemmed\n",
    "\n",
    "\n",
    "\n",
    "def tokenize(text):\n",
    "    text = \"\".join([ch for ch in text if ch not in punctuation])\n",
    "    tokens = nltk.word_tokenize(text)\n",
    "    stems = stem_tokens(tokens, stemmer)\n",
    "    return stems\n",
    "\n",
    "def cleanup(data_set):\n",
    "    for i in range(len(data_set)):\n",
    "        temp=tokenize(data_set[i])\n",
    "        data_set[i]=' '.join([temp[word] for word in range(len(temp))])"
   ]
  },
  {
   "cell_type": "code",
   "execution_count": 79,
   "metadata": {
    "collapsed": true
   },
   "outputs": [],
   "source": [
    "cleanup(X)"
   ]
  },
  {
   "cell_type": "code",
   "execution_count": 143,
   "metadata": {},
   "outputs": [],
   "source": [
    "vectorizer = CountVectorizer(min_df=5,stop_words ='english') \n",
    "X_f=vectorizer.fit_transform(X)"
   ]
  },
  {
   "cell_type": "code",
   "execution_count": 145,
   "metadata": {
    "collapsed": true
   },
   "outputs": [],
   "source": [
    "tfidf_transformer = TfidfTransformer()\n",
    "X_tfidf = tfidf_transformer.fit_transform(X_f)"
   ]
  },
  {
   "cell_type": "code",
   "execution_count": 149,
   "metadata": {},
   "outputs": [],
   "source": [
    "from sklearn.decomposition import TruncatedSVD\n",
    "SVD=TruncatedSVD(n_components=50, algorithm='arpack')\n",
    "LSI=SVD.fit_transform(X_tfidf)"
   ]
  },
  {
   "cell_type": "code",
   "execution_count": 161,
   "metadata": {
    "collapsed": true
   },
   "outputs": [],
   "source": [
    "from sklearn.metrics import roc_curve\n",
    "import matplotlib.pyplot as plt #ROC Curve\n",
    "from sklearn.metrics import confusion_matrix\n",
    "from sklearn import metrics\n",
    "def printusefulinfo(classifier_name,input_train,output_train,input_test,output_test):\n",
    "    classifier_name.fit(input_train,output_train) #train the classifier\n",
    "    output_pred=classifier_name.predict(input_test)\n",
    "    x_roc,y_roc,threshold=roc_curve(output_test,output_pred,pos_label=1)\n",
    "    plt.plot(x_roc,y_roc)\n",
    "    plt.xlabel('False Positive Rate (FPR)')\n",
    "    plt.ylabel('True Positive Rate (TPR)')\n",
    "    plt.title('ROC Curve')\n",
    "    plt.show()\n",
    "    print ('confusion matrix is:')\n",
    "    print (confusion_matrix(output_test,output_pred))\n",
    "    print ('-------------------------------------------------------')\n",
    "    print ('accuracy is:')\n",
    "    print (np.mean(output_pred == output_test))\n",
    "    print ('-------------------------------------------------------')\n",
    "    print (metrics.classification_report(output_test,output_pred, target_names=[\"WA\",\"MA\"]),)"
   ]
  },
  {
   "cell_type": "markdown",
   "metadata": {},
   "source": [
    "use SVM"
   ]
  },
  {
   "cell_type": "code",
   "execution_count": 162,
   "metadata": {
    "collapsed": true
   },
   "outputs": [],
   "source": [
    "from sklearn import svm\n",
    "classifier_hard = svm.SVC(kernel='linear', C=1000)\n",
    "classifier_soft = svm.SVC(kernel='linear', C=0.001)"
   ]
  },
  {
   "cell_type": "code",
   "execution_count": 163,
   "metadata": {
    "collapsed": true
   },
   "outputs": [],
   "source": [
    "import numpy as np\n",
    "from sklearn.model_selection import train_test_split\n",
    "X_train, X_test, y_train, y_test = train_test_split(LSI, y, test_size=0.3, random_state=42)"
   ]
  },
  {
   "cell_type": "code",
   "execution_count": 164,
   "metadata": {
    "scrolled": false
   },
   "outputs": [
    {
     "data": {
      "image/png": "[encoded data removed]",
      "text/plain": [
       "<matplotlib.figure.Figure at 0x1ca1764860>"
      ]
     },
     "metadata": {},
     "output_type": "display_data"
    },
    {
     "name": "stdout",
     "output_type": "stream",
     "text": [
      "confusion matrix is:\n",
      "[[4847  247]\n",
      " [1979 2629]]\n",
      "-------------------------------------------------------\n",
      "accuracy is:\n",
      "0.770562770563\n",
      "-------------------------------------------------------\n",
      "             precision    recall  f1-score   support\n",
      "\n",
      "         WA       0.71      0.95      0.81      5094\n",
      "         MA       0.91      0.57      0.70      4608\n",
      "\n",
      "avg / total       0.81      0.77      0.76      9702\n",
      "\n"
     ]
    }
   ],
   "source": [
    "printusefulinfo(classifier_hard,X_train,y_train,X_test,y_test)"
   ]
  },
  {
   "cell_type": "code",
   "execution_count": 165,
   "metadata": {},
   "outputs": [
    {
     "data": {
      "image/png": "[encoded data removed]",
      "text/plain": [
       "<matplotlib.figure.Figure at 0x1a13b7b7b8>"
      ]
     },
     "metadata": {},
     "output_type": "display_data"
    },
    {
     "name": "stdout",
     "output_type": "stream",
     "text": [
      "confusion matrix is:\n",
      "[[5094    0]\n",
      " [4599    9]]\n",
      "-------------------------------------------------------\n",
      "accuracy is:\n",
      "0.525974025974\n",
      "-------------------------------------------------------\n",
      "             precision    recall  f1-score   support\n",
      "\n",
      "         WA       0.53      1.00      0.69      5094\n",
      "         MA       1.00      0.00      0.00      4608\n",
      "\n",
      "avg / total       0.75      0.53      0.36      9702\n",
      "\n"
     ]
    }
   ],
   "source": [
    "printusefulinfo(classifier_soft,X_train,y_train,X_test,y_test)"
   ]
  },
  {
   "cell_type": "code",
   "execution_count": 166,
   "metadata": {
    "collapsed": true
   },
   "outputs": [],
   "source": [
    "svc = svm.SVC(kernel='linear')\n",
    "knumber = [0.001, 0.01, 0.1, 1, 10, 100, 1000]"
   ]
  },
  {
   "cell_type": "code",
   "execution_count": 169,
   "metadata": {
    "scrolled": true
   },
   "outputs": [],
   "source": [
    "from sklearn.model_selection import cross_val_score\n",
    "scores=[]\n",
    "for k in knumber:\n",
    "    print (k)\n",
    "    svc.C=k\n",
    "    this_scores = cross_val_score(svc, LSI, y, n_jobs=2)\n",
    "    scores.append(np.mean(this_scores))"
   ]
  },
  {
   "cell_type": "code",
   "execution_count": 177,
   "metadata": {},
   "outputs": [
    {
     "name": "stdout",
     "output_type": "stream",
     "text": [
      "[0.52333240560348826, 0.71209450474688429, 0.72186659244827911, 0.72177381946377217, 0.72069146797785821, 0.72062961932152014, 0.72066054364968923]\n"
     ]
    }
   ],
   "source": [
    "print (scores)"
   ]
  },
  {
   "cell_type": "code",
   "execution_count": 170,
   "metadata": {
    "collapsed": true
   },
   "outputs": [],
   "source": [
    "desiredknumber=knumber[np.argmax(scores)]"
   ]
  },
  {
   "cell_type": "code",
   "execution_count": 173,
   "metadata": {},
   "outputs": [
    {
     "name": "stdout",
     "output_type": "stream",
     "text": [
      "0.1\n"
     ]
    }
   ],
   "source": [
    "print (desiredknumber)"
   ]
  },
  {
   "cell_type": "code",
   "execution_count": 174,
   "metadata": {
    "collapsed": true
   },
   "outputs": [],
   "source": [
    "classifier_desire = svm.SVC(kernel='linear', C=desiredknumber)"
   ]
  },
  {
   "cell_type": "code",
   "execution_count": 176,
   "metadata": {},
   "outputs": [
    {
     "data": {
      "image/png": "[encoded data removed]",
      "text/plain": [
       "<matplotlib.figure.Figure at 0x1a1306f0b8>"
      ]
     },
     "metadata": {},
     "output_type": "display_data"
    },
    {
     "name": "stdout",
     "output_type": "stream",
     "text": [
      "confusion matrix is:\n",
      "[[4850  244]\n",
      " [2041 2567]]\n",
      "-------------------------------------------------------\n",
      "accuracy is:\n",
      "0.764481550196\n",
      "-------------------------------------------------------\n",
      "             precision    recall  f1-score   support\n",
      "\n",
      "         WA       0.70      0.95      0.81      5094\n",
      "         MA       0.91      0.56      0.69      4608\n",
      "\n",
      "avg / total       0.80      0.76      0.75      9702\n",
      "\n"
     ]
    }
   ],
   "source": [
    "printusefulinfo(classifier_desire,X_train,y_train,X_test,y_test)"
   ]
  },
  {
   "cell_type": "markdown",
   "metadata": {},
   "source": [
    "use naïve Bayes algorithm"
   ]
  },
  {
   "cell_type": "code",
   "execution_count": 178,
   "metadata": {
    "collapsed": true
   },
   "outputs": [],
   "source": [
    "from sklearn.naive_bayes import GaussianNB\n",
    "gnb = GaussianNB()"
   ]
  },
  {
   "cell_type": "code",
   "execution_count": 179,
   "metadata": {},
   "outputs": [
    {
     "data": {
      "image/png": "[encoded data removed]",
      "text/plain": [
       "<matplotlib.figure.Figure at 0x1a13c9e5c0>"
      ]
     },
     "metadata": {},
     "output_type": "display_data"
    },
    {
     "name": "stdout",
     "output_type": "stream",
     "text": [
      "confusion matrix is:\n",
      "[[4194  900]\n",
      " [1975 2633]]\n",
      "-------------------------------------------------------\n",
      "accuracy is:\n",
      "0.703669346526\n",
      "-------------------------------------------------------\n",
      "             precision    recall  f1-score   support\n",
      "\n",
      "         WA       0.68      0.82      0.74      5094\n",
      "         MA       0.75      0.57      0.65      4608\n",
      "\n",
      "avg / total       0.71      0.70      0.70      9702\n",
      "\n"
     ]
    }
   ],
   "source": [
    "printusefulinfo(gnb,X_train,y_train,X_test,y_test)"
   ]
  },
  {
   "cell_type": "markdown",
   "metadata": {},
   "source": [
    "use logistic regression"
   ]
  },
  {
   "cell_type": "code",
   "execution_count": 181,
   "metadata": {},
   "outputs": [],
   "source": [
    "from sklearn.linear_model import LogisticRegression\n",
    "logreg=LogisticRegression()"
   ]
  },
  {
   "cell_type": "code",
   "execution_count": 182,
   "metadata": {},
   "outputs": [
    {
     "data": {
      "image/png": "[encoded data removed]",
      "text/plain": [
       "<matplotlib.figure.Figure at 0x1ca1724198>"
      ]
     },
     "metadata": {},
     "output_type": "display_data"
    },
    {
     "name": "stdout",
     "output_type": "stream",
     "text": [
      "confusion matrix is:\n",
      "[[4789  305]\n",
      " [1848 2760]]\n",
      "-------------------------------------------------------\n",
      "accuracy is:\n",
      "0.778086992373\n",
      "-------------------------------------------------------\n",
      "             precision    recall  f1-score   support\n",
      "\n",
      "         WA       0.72      0.94      0.82      5094\n",
      "         MA       0.90      0.60      0.72      4608\n",
      "\n",
      "avg / total       0.81      0.78      0.77      9702\n",
      "\n"
     ]
    }
   ],
   "source": [
    "printusefulinfo(logreg,X_train,y_train,X_test,y_test)"
   ]
  },
  {
   "cell_type": "code",
   "execution_count": null,
   "metadata": {
    "collapsed": true
   },
   "outputs": [],
   "source": []
  }
 ],
 "metadata": {
  "kernelspec": {
   "display_name": "Python 3",
   "language": "python",
   "name": "python3"
  },
  "language_info": {
   "codemirror_mode": {
    "name": "ipython",
    "version": 3
   },
   "file_extension": ".py",
   "mimetype": "text/x-python",
   "name": "python",
   "nbconvert_exporter": "python",
   "pygments_lexer": "ipython3",
   "version": "3.6.3"
  }
 },
 "nbformat": 4,
 "nbformat_minor": 2
}
